{
 "cells": [
  {
   "cell_type": "code",
   "execution_count": 1,
   "id": "0a30a19b",
   "metadata": {},
   "outputs": [],
   "source": [
    "#https://analyticsindiamag.com/complete-guide-to-bidirectional-lstm-with-python-codes/"
   ]
  },
  {
   "cell_type": "code",
   "execution_count": 9,
   "id": "caec5261",
   "metadata": {},
   "outputs": [],
   "source": [
    "#Importing the libraries \n",
    "import numpy as np\n",
    "from keras.preprocessing import sequence\n",
    "from keras.models import Sequential\n",
    "from keras.layers import Dense, Dropout, Embedding, LSTM, Bidirectional\n",
    "from keras.datasets import imdb \n",
    "import tensorflow as tf\n",
    "from keras.preprocessing import sequence"
   ]
  },
  {
   "cell_type": "code",
   "execution_count": 10,
   "id": "9d5afb3a",
   "metadata": {},
   "outputs": [],
   "source": [
    "n_unique_words = 10000 # cut texts after this number of words\n",
    "maxlen = 200\n",
    "batch_size = 128 "
   ]
  },
  {
   "cell_type": "code",
   "execution_count": 11,
   "id": "ada618a9",
   "metadata": {},
   "outputs": [],
   "source": [
    "(x_train, y_train),(x_test, y_test) = imdb.load_data(num_words=n_unique_words)"
   ]
  },
  {
   "cell_type": "code",
   "execution_count": 12,
   "id": "a4b3beb2",
   "metadata": {},
   "outputs": [
    {
     "data": {
      "text/plain": [
       "(25000,)"
      ]
     },
     "execution_count": 12,
     "metadata": {},
     "output_type": "execute_result"
    }
   ],
   "source": [
    "x_train.shape"
   ]
  },
  {
   "cell_type": "code",
   "execution_count": 13,
   "id": "91b98a5e",
   "metadata": {},
   "outputs": [
    {
     "data": {
      "text/plain": [
       "(25000,)"
      ]
     },
     "execution_count": 13,
     "metadata": {},
     "output_type": "execute_result"
    }
   ],
   "source": [
    "y_train.shape"
   ]
  },
  {
   "cell_type": "code",
   "execution_count": 14,
   "id": "dc9ba47f",
   "metadata": {},
   "outputs": [],
   "source": [
    "x_train = tf.keras.preprocessing.sequence.pad_sequences(x_train, maxlen=maxlen)\n",
    "x_test = tf.keras.preprocessing.sequence.pad_sequences(x_test, maxlen=maxlen)\n",
    "y_train = np.array(y_train)\n",
    "y_test = np.array(y_test) "
   ]
  },
  {
   "cell_type": "code",
   "execution_count": 16,
   "id": "9b4d1b0c",
   "metadata": {},
   "outputs": [
    {
     "data": {
      "text/plain": [
       "array([[   5,   25,  100, ...,   19,  178,   32],\n",
       "       [   0,    0,    0, ...,   16,  145,   95],\n",
       "       [   0,    0,    0, ...,    7,  129,  113],\n",
       "       ...,\n",
       "       [   0,    0,    0, ...,    4, 3586,    2],\n",
       "       [   0,    0,    0, ...,   12,    9,   23],\n",
       "       [   0,    0,    0, ...,  204,  131,    9]])"
      ]
     },
     "execution_count": 16,
     "metadata": {},
     "output_type": "execute_result"
    }
   ],
   "source": [
    "x_train"
   ]
  },
  {
   "cell_type": "code",
   "execution_count": 17,
   "id": "92a97fdf",
   "metadata": {},
   "outputs": [
    {
     "data": {
      "text/plain": [
       "array([1, 0, 0, ..., 0, 1, 0], dtype=int64)"
      ]
     },
     "execution_count": 17,
     "metadata": {},
     "output_type": "execute_result"
    }
   ],
   "source": [
    "y_train"
   ]
  },
  {
   "cell_type": "code",
   "execution_count": 19,
   "id": "5b8ca10e",
   "metadata": {},
   "outputs": [],
   "source": [
    "#bi-LSTM layer\n",
    "model = Sequential()\n",
    "model.add(Embedding(n_unique_words, 128, input_length=maxlen))\n",
    "model.add(Bidirectional(LSTM(64)))\n",
    "model.add(Dropout(0.5))\n",
    "model.add(Dense(1, activation='sigmoid'))\n",
    "model.compile(loss='binary_crossentropy', optimizer='adam', metrics=['accuracy'])"
   ]
  },
  {
   "cell_type": "code",
   "execution_count": 20,
   "id": "ca706e24",
   "metadata": {},
   "outputs": [
    {
     "name": "stdout",
     "output_type": "stream",
     "text": [
      "Epoch 1/12\n",
      "196/196 [==============================] - 301s 1s/step - loss: 0.4287 - accuracy: 0.7919 - val_loss: 0.3150 - val_accuracy: 0.8721\n",
      "Epoch 2/12\n",
      "196/196 [==============================] - 309s 2s/step - loss: 0.2332 - accuracy: 0.9123 - val_loss: 0.3059 - val_accuracy: 0.8697\n",
      "Epoch 3/12\n",
      "196/196 [==============================] - 297s 2s/step - loss: 0.1684 - accuracy: 0.9391 - val_loss: 0.3906 - val_accuracy: 0.8605\n",
      "Epoch 4/12\n",
      "196/196 [==============================] - 155s 790ms/step - loss: 0.1387 - accuracy: 0.9506 - val_loss: 0.4254 - val_accuracy: 0.8615\n",
      "Epoch 5/12\n",
      "196/196 [==============================] - 181s 927ms/step - loss: 0.1045 - accuracy: 0.9631 - val_loss: 0.4400 - val_accuracy: 0.8584\n",
      "Epoch 6/12\n",
      "196/196 [==============================] - 182s 929ms/step - loss: 0.1030 - accuracy: 0.9632 - val_loss: 0.5068 - val_accuracy: 0.8545\n",
      "Epoch 7/12\n",
      "196/196 [==============================] - 199s 1s/step - loss: 0.0718 - accuracy: 0.9776 - val_loss: 0.5926 - val_accuracy: 0.8565\n",
      "Epoch 8/12\n",
      "196/196 [==============================] - 195s 994ms/step - loss: 0.0617 - accuracy: 0.9811 - val_loss: 0.5635 - val_accuracy: 0.8514\n",
      "Epoch 9/12\n",
      "196/196 [==============================] - 202s 1s/step - loss: 0.0523 - accuracy: 0.9846 - val_loss: 0.6419 - val_accuracy: 0.8524\n",
      "Epoch 10/12\n",
      "196/196 [==============================] - 208s 1s/step - loss: 0.0595 - accuracy: 0.9817 - val_loss: 0.6030 - val_accuracy: 0.8496\n",
      "Epoch 11/12\n",
      "196/196 [==============================] - 212s 1s/step - loss: 0.0425 - accuracy: 0.9870 - val_loss: 0.6220 - val_accuracy: 0.8508\n",
      "Epoch 12/12\n",
      "196/196 [==============================] - 208s 1s/step - loss: 0.0946 - accuracy: 0.9682 - val_loss: 0.5439 - val_accuracy: 0.8547\n",
      "[0.428722083568573, 0.23316296935081482, 0.1683630794286728, 0.13874872028827667, 0.10454640537500381, 0.10302763432264328, 0.07182308286428452, 0.06169259175658226, 0.05226568505167961, 0.05950444936752319, 0.04245356470346451, 0.09464603662490845]\n",
      "[0.7918800115585327, 0.9123200178146362, 0.939079999923706, 0.9505599737167358, 0.9631199836730957, 0.9632400274276733, 0.9776399731636047, 0.9811199903488159, 0.9846400022506714, 0.9816799759864807, 0.9869599938392639, 0.9681599736213684]\n"
     ]
    }
   ],
   "source": [
    "history=model.fit(x_train, y_train,\n",
    "           batch_size=batch_size,\n",
    "           epochs=12,\n",
    "           validation_data=[x_test, y_test])\n",
    "print(history.history['loss'])\n",
    "print(history.history['accuracy']) "
   ]
  },
  {
   "cell_type": "code",
   "execution_count": 21,
   "id": "5a62e542",
   "metadata": {},
   "outputs": [
    {
     "data": {
      "image/png": "[encoded data removed]",
      "text/plain": [
       "<Figure size 640x480 with 1 Axes>"
      ]
     },
     "metadata": {},
     "output_type": "display_data"
    }
   ],
   "source": [
    "from matplotlib import pyplot\n",
    "pyplot.plot(history.history['loss'])\n",
    "pyplot.plot(history.history['accuracy'])\n",
    "pyplot.title('model loss vs accuracy')\n",
    "pyplot.xlabel('epoch')\n",
    "pyplot.legend(['loss', 'accuracy'], loc='upper right')\n",
    "pyplot.show() "
   ]
  },
  {
   "cell_type": "code",
   "execution_count": 22,
   "id": "017d3797",
   "metadata": {},
   "outputs": [],
   "source": [
    "#https://www.baeldung.com/cs/bidirectional-vs-unidirectional-lstm"
   ]
  },
  {
   "cell_type": "code",
   "execution_count": null,
   "id": "5e750fa4",
   "metadata": {},
   "outputs": [],
   "source": [
    "#https://towardsdatascience.com/lstm-and-bidirectional-lstm-for-regression-4fddf910c655"
   ]
  }
 ],
 "metadata": {
  "kernelspec": {
   "display_name": "Python 3 (ipykernel)",
   "language": "python",
   "name": "python3"
  },
  "language_info": {
   "codemirror_mode": {
    "name": "ipython",
    "version": 3
   },
   "file_extension": ".py",
   "mimetype": "text/x-python",
   "name": "python",
   "nbconvert_exporter": "python",
   "pygments_lexer": "ipython3",
   "version": "3.9.12"
  }
 },
 "nbformat": 4,
 "nbformat_minor": 5
}
