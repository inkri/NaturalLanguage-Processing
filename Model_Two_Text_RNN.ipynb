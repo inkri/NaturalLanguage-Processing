{
 "cells": [
  {
   "cell_type": "code",
   "execution_count": 1,
   "id": "ee3d397c",
   "metadata": {},
   "outputs": [],
   "source": [
    "#Topics:\n",
    "#RNN\n",
    "#LSTM RNN\n",
    "#GRU RNN\n",
    "#Bidirectional LSTM RNN\n",
    "#Encoders-Decoders\n",
    "#Transformers\n",
    "#BERT-SBERT"
   ]
  },
  {
   "cell_type": "markdown",
   "id": "5c978460",
   "metadata": {},
   "source": [
    "## RNN"
   ]
  },
  {
   "cell_type": "code",
   "execution_count": 2,
   "id": "5c2265f7",
   "metadata": {},
   "outputs": [],
   "source": [
    "# Let’s load the libraries\n",
    "\n",
    "import re    # for regular expressions \n",
    "import nltk  # for text manipulation \n",
    "import string \n",
    "import warnings \n",
    "import numpy as np \n",
    "import pandas as pd \n",
    "import seaborn as sns \n",
    "import matplotlib.pyplot as plt  \n",
    "import tensorflow as tf\n",
    "from nltk.corpus import stopwords\n",
    "from nltk.stem.porter import PorterStemmer\n",
    "ps = PorterStemmer()\n",
    "\n",
    "pd.set_option(\"display.max_colwidth\", 200) \n",
    "warnings.filterwarnings(\"ignore\", category=DeprecationWarning) \n",
    "\n",
    "%matplotlib inline"
   ]
  },
  {
   "cell_type": "code",
   "execution_count": 3,
   "id": "b210390b",
   "metadata": {},
   "outputs": [
    {
     "name": "stdout",
     "output_type": "stream",
     "text": [
      "Shape of train (31962, 3)\n",
      "Shape of test (17197, 2)\n"
     ]
    }
   ],
   "source": [
    "# Let’s read train and test datasets.\n",
    "train  = pd.read_csv('train_E6oV3lV.csv') \n",
    "print('Shape of train', train.shape)\n",
    "test = pd.read_csv('test_tweets_anuFYb8.csv')\n",
    "print('Shape of test', test.shape)"
   ]
  },
  {
   "cell_type": "code",
   "execution_count": 4,
   "id": "0dd70eb4",
   "metadata": {},
   "outputs": [
    {
     "name": "stdout",
     "output_type": "stream",
     "text": [
      "(31962, 3)\n"
     ]
    },
    {
     "name": "stderr",
     "output_type": "stream",
     "text": [
      "C:\\Users\\Abhishek Jaiswal\\AppData\\Local\\Temp\\ipykernel_13944\\3383634454.py:2: FutureWarning: The frame.append method is deprecated and will be removed from pandas in a future version. Use pandas.concat instead.\n",
      "  combi = train.append(test, ignore_index=True, sort=True)\n"
     ]
    },
    {
     "data": {
      "text/html": [
       "<div>\n",
       "<style scoped>\n",
       "    .dataframe tbody tr th:only-of-type {\n",
       "        vertical-align: middle;\n",
       "    }\n",
       "\n",
       "    .dataframe tbody tr th {\n",
       "        vertical-align: top;\n",
       "    }\n",
       "\n",
       "    .dataframe thead th {\n",
       "        text-align: right;\n",
       "    }\n",
       "</style>\n",
       "<table border=\"1\" class=\"dataframe\">\n",
       "  <thead>\n",
       "    <tr style=\"text-align: right;\">\n",
       "      <th></th>\n",
       "      <th>id</th>\n",
       "      <th>label</th>\n",
       "      <th>tweet</th>\n",
       "    </tr>\n",
       "  </thead>\n",
       "  <tbody>\n",
       "    <tr>\n",
       "      <th>29584</th>\n",
       "      <td>29585</td>\n",
       "      <td>0.0</td>\n",
       "      <td>#animalface   gorilla simulator: you need to do to adapt to the environment. the need to tear the city. mate</td>\n",
       "    </tr>\n",
       "    <tr>\n",
       "      <th>2766</th>\n",
       "      <td>2767</td>\n",
       "      <td>0.0</td>\n",
       "      <td>#childhood   bull up: you will dominate your bull and you will direct it whatever you want it to do. when yo</td>\n",
       "    </tr>\n",
       "    <tr>\n",
       "      <th>9270</th>\n",
       "      <td>9271</td>\n",
       "      <td>0.0</td>\n",
       "      <td>looking cool in river island outfit @user @user #riverisland #cute #smile</td>\n",
       "    </tr>\n",
       "    <tr>\n",
       "      <th>9428</th>\n",
       "      <td>9429</td>\n",
       "      <td>0.0</td>\n",
       "      <td>@user @user whole speech was attempt for appreciating what he's doing vs isis (not enough) and attacking @user   ðð¼ðð¼</td>\n",
       "    </tr>\n",
       "    <tr>\n",
       "      <th>1553</th>\n",
       "      <td>1554</td>\n",
       "      <td>1.0</td>\n",
       "      <td>@user feds provide inadequate #mentalhealth care for #firstnations: internal memo  #thirdworldcanada</td>\n",
       "    </tr>\n",
       "  </tbody>\n",
       "</table>\n",
       "</div>"
      ],
      "text/plain": [
       "          id  label  \\\n",
       "29584  29585    0.0   \n",
       "2766    2767    0.0   \n",
       "9270    9271    0.0   \n",
       "9428    9429    0.0   \n",
       "1553    1554    1.0   \n",
       "\n",
       "                                                                                                                                   tweet  \n",
       "29584                      #animalface   gorilla simulator: you need to do to adapt to the environment. the need to tear the city. mate   \n",
       "2766                       #childhood   bull up: you will dominate your bull and you will direct it whatever you want it to do. when yo   \n",
       "9270                                                        looking cool in river island outfit @user @user #riverisland #cute #smile     \n",
       "9428   @user @user whole speech was attempt for appreciating what he's doing vs isis (not enough) and attacking @user   ðð¼ðð¼  \n",
       "1553                               @user feds provide inadequate #mentalhealth care for #firstnations: internal memo  #thirdworldcanada   "
      ]
     },
     "execution_count": 4,
     "metadata": {},
     "output_type": "execute_result"
    }
   ],
   "source": [
    "#Train and Test Merge\n",
    "combi = train.append(test, ignore_index=True, sort=True)\n",
    "combi = combi.dropna()\n",
    "print(combi.shape)\n",
    "combi.sample(5)"
   ]
  },
  {
   "cell_type": "code",
   "execution_count": 5,
   "id": "811d7b0f",
   "metadata": {},
   "outputs": [],
   "source": [
    "#https://www.kaggle.com/code/kcsener/8-recurrent-neural-network-rnn-tutorial\n",
    "##https://www.youtube.com/watch?v=ZwYtqTaZ2io&list=PLZoTAELRMXVNNrHSKv36Lr3_156yCo6Nn&index=8\n",
    "#https://www.kaggle.com/code/prashant111/comprehensive-guide-to-rnn-with-keras"
   ]
  },
  {
   "cell_type": "markdown",
   "id": "9b4a0b14",
   "metadata": {},
   "source": [
    "## Recurrent Neural Network (RNN)\n",
    "\n",
    "### RNN is able to remember important things about the input received, which enables them to be very precise in predicting what's coming next.\n",
    "\n",
    "### This is the reason why they are preferred algorithm for sequential data like time series, speech, text, financial data, audio, video because they can perform a much deeper understanding of a sequence and its content compared to the other algorithms.\n",
    "\n",
    "### Not only feeds output but also gives feed backs into itself. Because RNN has internal memory. How? RNN has hidden layers which have temporal loop (kendini besleyen zamansal döngüye sahiptir ve geçici belleğe sahiptir)."
   ]
  },
  {
   "cell_type": "code",
   "execution_count": 6,
   "id": "3d682113",
   "metadata": {},
   "outputs": [],
   "source": [
    "# function to preprocess speech\n",
    "def clean(text):\n",
    "    \n",
    "    # removing paragraph numbers\n",
    "    text = re.sub('[0-9]+.\\t','',str(text))\n",
    "    # removing new line characters\n",
    "    text = re.sub('\\n ','',str(text))\n",
    "    text = re.sub('\\n',' ',str(text))\n",
    "    # removing apostrophes\n",
    "    text = re.sub(\"'s\",'',str(text))\n",
    "    # removing hyphens\n",
    "    text = re.sub(\"-\",' ',str(text))\n",
    "    text = re.sub(\"— \",'',str(text))\n",
    "    # removing quotation marks\n",
    "    text = re.sub('\\\"','',str(text))\n",
    "    # removing salutations\n",
    "    text = re.sub(\"Mr\\.\",'Mr',str(text))\n",
    "    text = re.sub(\"Mrs\\.\",'Mrs',str(text))\n",
    "    # removing any reference to outside text\n",
    "    text = re.sub(\"[\\(\\[].*?[\\)\\]]\", \"\", str(text))\n",
    "    \n",
    "    return text"
   ]
  },
  {
   "cell_type": "code",
   "execution_count": 7,
   "id": "24c85ba9",
   "metadata": {},
   "outputs": [
    {
     "data": {
      "text/html": [
       "<div>\n",
       "<style scoped>\n",
       "    .dataframe tbody tr th:only-of-type {\n",
       "        vertical-align: middle;\n",
       "    }\n",
       "\n",
       "    .dataframe tbody tr th {\n",
       "        vertical-align: top;\n",
       "    }\n",
       "\n",
       "    .dataframe thead th {\n",
       "        text-align: right;\n",
       "    }\n",
       "</style>\n",
       "<table border=\"1\" class=\"dataframe\">\n",
       "  <thead>\n",
       "    <tr style=\"text-align: right;\">\n",
       "      <th></th>\n",
       "      <th>id</th>\n",
       "      <th>label</th>\n",
       "      <th>tweet</th>\n",
       "      <th>text</th>\n",
       "    </tr>\n",
       "  </thead>\n",
       "  <tbody>\n",
       "    <tr>\n",
       "      <th>0</th>\n",
       "      <td>1</td>\n",
       "      <td>0.0</td>\n",
       "      <td>@user when a father is dysfunctional and is so selfish he drags his kids into his dysfunction.   #run</td>\n",
       "      <td>@user when a father is dysfunctional and is so selfish he drags his kids into his dysfunction.   #run</td>\n",
       "    </tr>\n",
       "    <tr>\n",
       "      <th>1</th>\n",
       "      <td>2</td>\n",
       "      <td>0.0</td>\n",
       "      <td>@user @user thanks for #lyft credit i can't use cause they don't offer wheelchair vans in pdx.    #disapointed #getthanked</td>\n",
       "      <td>@user @user thanks for #lyft credit i can't use cause they don't offer wheelchair vans in pdx.    #disapointed #getthanked</td>\n",
       "    </tr>\n",
       "  </tbody>\n",
       "</table>\n",
       "</div>"
      ],
      "text/plain": [
       "   id  label  \\\n",
       "0   1    0.0   \n",
       "1   2    0.0   \n",
       "\n",
       "                                                                                                                        tweet  \\\n",
       "0                       @user when a father is dysfunctional and is so selfish he drags his kids into his dysfunction.   #run   \n",
       "1  @user @user thanks for #lyft credit i can't use cause they don't offer wheelchair vans in pdx.    #disapointed #getthanked   \n",
       "\n",
       "                                                                                                                         text  \n",
       "0                       @user when a father is dysfunctional and is so selfish he drags his kids into his dysfunction.   #run  \n",
       "1  @user @user thanks for #lyft credit i can't use cause they don't offer wheelchair vans in pdx.    #disapointed #getthanked  "
      ]
     },
     "execution_count": 7,
     "metadata": {},
     "output_type": "execute_result"
    }
   ],
   "source": [
    "combi['text'] = combi['tweet'].apply(clean)\n",
    "combi.head(2)"
   ]
  },
  {
   "cell_type": "code",
   "execution_count": 8,
   "id": "48c01945",
   "metadata": {},
   "outputs": [],
   "source": [
    "def remove_url(sentence):\n",
    "    url = re.compile(r'https?://\\S+|www\\.\\S+')\n",
    "    return url.sub(r'', sentence)\n",
    "\n",
    "\n",
    "def remove_at(sentence):\n",
    "    url = re.compile(r'@\\S+')\n",
    "    return url.sub(r'', sentence)\n",
    "\n",
    "def remove_html(sentence):\n",
    "    html = re.compile(r'<.*?>')\n",
    "    return html.sub(r'', sentence)\n",
    "\n",
    "def remove_emoji(sentence):\n",
    "    emoji_pattern = re.compile(\"[\"\n",
    "                           u\"\\U0001F600-\\U0001F64F\"  # emoticons\n",
    "                           u\"\\U0001F300-\\U0001F5FF\"  # symbols & pictographs\n",
    "                           u\"\\U0001F680-\\U0001F6FF\"  # transport & map symbols\n",
    "                           u\"\\U0001F1E0-\\U0001F1FF\"  # flags (iOS)\n",
    "                           u\"\\U00002702-\\U000027B0\"\n",
    "                           u\"\\U000024C2-\\U0001F251\"\n",
    "                           \"]+\", flags=re.UNICODE)\n",
    "    \n",
    "    return emoji_pattern.sub(r'', sentence)\n",
    "\n",
    "def remove_stopwords(sentence):\n",
    "    words = sentence.split()\n",
    "    words = [word for word in words if word not in stopwords.words('english')]\n",
    "    \n",
    "    return ' '.join(words)\n",
    "\n",
    "from nltk.stem import SnowballStemmer\n",
    "stemmer = SnowballStemmer('english')\n",
    "\n",
    "def stem_words(sentence):\n",
    "    words = sentence.split()\n",
    "    words = [stemmer.stem(word) for word in words ]\n",
    "    \n",
    "    return ' '.join(words)\n",
    "\n",
    "def clean_text(data):\n",
    "    data['text'] = data['text'].apply(lambda x : remove_url(x))\n",
    "    data['text'] = data['text'].apply(lambda x : remove_at(x))\n",
    "    data['text'] = data['text'].apply(lambda x : remove_html(x))\n",
    "    data['text'] = data['text'].apply(lambda x : remove_emoji(x))\n",
    "    data['text'] = data['text'].apply(lambda x : remove_stopwords(x))\n",
    "    data['text'] = data['text'].apply(lambda x : stem_words(x))\n",
    "    \n",
    "    return data"
   ]
  },
  {
   "cell_type": "code",
   "execution_count": 9,
   "id": "b242df63",
   "metadata": {},
   "outputs": [
    {
     "data": {
      "text/html": [
       "<div>\n",
       "<style scoped>\n",
       "    .dataframe tbody tr th:only-of-type {\n",
       "        vertical-align: middle;\n",
       "    }\n",
       "\n",
       "    .dataframe tbody tr th {\n",
       "        vertical-align: top;\n",
       "    }\n",
       "\n",
       "    .dataframe thead th {\n",
       "        text-align: right;\n",
       "    }\n",
       "</style>\n",
       "<table border=\"1\" class=\"dataframe\">\n",
       "  <thead>\n",
       "    <tr style=\"text-align: right;\">\n",
       "      <th></th>\n",
       "      <th>id</th>\n",
       "      <th>label</th>\n",
       "      <th>tweet</th>\n",
       "      <th>text</th>\n",
       "    </tr>\n",
       "  </thead>\n",
       "  <tbody>\n",
       "    <tr>\n",
       "      <th>0</th>\n",
       "      <td>1</td>\n",
       "      <td>0.0</td>\n",
       "      <td>@user when a father is dysfunctional and is so selfish he drags his kids into his dysfunction.   #run</td>\n",
       "      <td>father dysfunct selfish drag kid dysfunction. #run</td>\n",
       "    </tr>\n",
       "    <tr>\n",
       "      <th>1</th>\n",
       "      <td>2</td>\n",
       "      <td>0.0</td>\n",
       "      <td>@user @user thanks for #lyft credit i can't use cause they don't offer wheelchair vans in pdx.    #disapointed #getthanked</td>\n",
       "      <td>thank #lyft credit can't use caus offer wheelchair van pdx. #disapoint #getthank</td>\n",
       "    </tr>\n",
       "  </tbody>\n",
       "</table>\n",
       "</div>"
      ],
      "text/plain": [
       "   id  label  \\\n",
       "0   1    0.0   \n",
       "1   2    0.0   \n",
       "\n",
       "                                                                                                                        tweet  \\\n",
       "0                       @user when a father is dysfunctional and is so selfish he drags his kids into his dysfunction.   #run   \n",
       "1  @user @user thanks for #lyft credit i can't use cause they don't offer wheelchair vans in pdx.    #disapointed #getthanked   \n",
       "\n",
       "                                                                               text  \n",
       "0                                father dysfunct selfish drag kid dysfunction. #run  \n",
       "1  thank #lyft credit can't use caus offer wheelchair van pdx. #disapoint #getthank  "
      ]
     },
     "execution_count": 9,
     "metadata": {},
     "output_type": "execute_result"
    }
   ],
   "source": [
    "combi = clean_text(combi)\n",
    "combi.head(2)"
   ]
  },
  {
   "cell_type": "code",
   "execution_count": 10,
   "id": "70e86da5",
   "metadata": {},
   "outputs": [],
   "source": [
    "#Encode sentences\n",
    "def define_tokenizer(train_sentences, val_sentences, test_sentences):\n",
    "    sentences = pd.concat([train_sentences, val_sentences, test_sentences])\n",
    "    \n",
    "    tokenizer = tf.keras.preprocessing.text.Tokenizer()\n",
    "    tokenizer.fit_on_texts(sentences)\n",
    "    \n",
    "    return tokenizer\n",
    "    \n",
    "def encode(sentences, tokenizer):\n",
    "    encoded_sentences = tokenizer.texts_to_sequences(sentences)\n",
    "    encoded_sentences = tf.keras.preprocessing.sequence.pad_sequences(encoded_sentences, padding='post')\n",
    "    \n",
    "    return encoded_sentences"
   ]
  },
  {
   "cell_type": "code",
   "execution_count": 11,
   "id": "854bd93f",
   "metadata": {},
   "outputs": [
    {
     "data": {
      "text/plain": [
       "(31962, 4)"
      ]
     },
     "execution_count": 11,
     "metadata": {},
     "output_type": "execute_result"
    }
   ],
   "source": [
    "combi.shape"
   ]
  },
  {
   "cell_type": "code",
   "execution_count": 12,
   "id": "45f75437",
   "metadata": {},
   "outputs": [],
   "source": [
    "# splitting data into training and validation set \n",
    "val_data = combi.head(25000).tail(5000)\n",
    "train_data = combi.head(20000)\n",
    "test_data = combi.tail(6962)"
   ]
  },
  {
   "cell_type": "code",
   "execution_count": 13,
   "id": "18caefee",
   "metadata": {},
   "outputs": [],
   "source": [
    "tokenizer = define_tokenizer(train_data['text'], val_data['text'], test_data['text'])\n",
    "\n",
    "encoded_sentences = encode(train_data['text'], tokenizer)\n",
    "val_encoded_sentences = encode(val_data['text'], tokenizer)\n",
    "encoded_test_sentences = encode(test_data['text'], tokenizer)"
   ]
  },
  {
   "cell_type": "code",
   "execution_count": 14,
   "id": "474860a8",
   "metadata": {},
   "outputs": [
    {
     "data": {
      "text/plain": [
       "6815"
      ]
     },
     "execution_count": 14,
     "metadata": {},
     "output_type": "execute_result"
    }
   ],
   "source": [
    "tokenizer.word_index['disaster']"
   ]
  },
  {
   "cell_type": "code",
   "execution_count": 15,
   "id": "d5401a3c",
   "metadata": {},
   "outputs": [
    {
     "data": {
      "text/plain": [
       "42333"
      ]
     },
     "execution_count": 15,
     "metadata": {},
     "output_type": "execute_result"
    }
   ],
   "source": [
    "#The word index can also be used to find out how many words are in the vocabulary.\n",
    "len(tokenizer.word_index)"
   ]
  },
  {
   "cell_type": "code",
   "execution_count": 16,
   "id": "42ad20b5",
   "metadata": {},
   "outputs": [
    {
     "name": "stdout",
     "output_type": "stream",
     "text": [
      "Lower:  True\n",
      "Split:   \n",
      "Filters:  !\"#$%&()*+,-./:;<=>?@[\\]^_`{|}~\t\n",
      "\n"
     ]
    }
   ],
   "source": [
    "print('Lower: ', tokenizer.get_config()['lower'])\n",
    "print('Split: ', tokenizer.get_config()['split'])\n",
    "print('Filters: ', tokenizer.get_config()['filters'])"
   ]
  },
  {
   "cell_type": "code",
   "execution_count": 17,
   "id": "701050fe",
   "metadata": {},
   "outputs": [],
   "source": [
    "embedding_dict = {}\n",
    "\n",
    "with open('C:/BITsPilaniMTECH2123/Sem3/NLP/NLP_All_Practice/Word2vec_Doc2vec/glove.6B.100d.txt','r',encoding=\"utf8\") as f:\n",
    "    for line in f:\n",
    "        values = line.split()\n",
    "        word = values[0]\n",
    "        vectors = np.asarray(values[1:],'float32')\n",
    "        embedding_dict[word] = vectors\n",
    "        \n",
    "f.close()"
   ]
  },
  {
   "cell_type": "code",
   "execution_count": 18,
   "id": "6b4e85c5",
   "metadata": {},
   "outputs": [],
   "source": [
    "#To ensure the encoding of the tokenizer and the embeddings are synchronized I use the below function to update the encoded words in the embedding with the encoding from the tokenizer.\n",
    "\n",
    "num_words = len(tokenizer.word_index) + 1\n",
    "embedding_matrix = np.zeros((num_words, 100))\n",
    "\n",
    "for word, i in tokenizer.word_index.items():\n",
    "    if i > num_words:\n",
    "        continue\n",
    "    \n",
    "    emb_vec = embedding_dict.get(word)\n",
    "    \n",
    "    if emb_vec is not None:\n",
    "        embedding_matrix[i] = emb_vec"
   ]
  },
  {
   "cell_type": "code",
   "execution_count": 19,
   "id": "9d62a363",
   "metadata": {},
   "outputs": [
    {
     "name": "stderr",
     "output_type": "stream",
     "text": [
      "C:\\Users\\Abhishek Jaiswal\\AppData\\Local\\Temp\\ipykernel_13944\\2567929554.py:2: SettingWithCopyWarning: \n",
      "A value is trying to be set on a copy of a slice from a DataFrame.\n",
      "Try using .loc[row_indexer,col_indexer] = value instead\n",
      "\n",
      "See the caveats in the documentation: https://pandas.pydata.org/pandas-docs/stable/user_guide/indexing.html#returning-a-view-versus-a-copy\n",
      "  train_data['target'] = train_data['label'].apply(np.int64)\n",
      "C:\\Users\\Abhishek Jaiswal\\AppData\\Local\\Temp\\ipykernel_13944\\2567929554.py:4: SettingWithCopyWarning: \n",
      "A value is trying to be set on a copy of a slice from a DataFrame.\n",
      "Try using .loc[row_indexer,col_indexer] = value instead\n",
      "\n",
      "See the caveats in the documentation: https://pandas.pydata.org/pandas-docs/stable/user_guide/indexing.html#returning-a-view-versus-a-copy\n",
      "  test_data['target'] = test_data['label'].apply(np.int64)\n"
     ]
    }
   ],
   "source": [
    "#Define pipeline\n",
    "train_data['target'] = train_data['label'].apply(np.int64)\n",
    "val_data['target'] = val_data['label'].apply(np.int64)\n",
    "test_data['target'] = test_data['label'].apply(np.int64)\n",
    "tf_data = tf.data.Dataset.from_tensor_slices((encoded_sentences, train_data['target'].values))"
   ]
  },
  {
   "cell_type": "code",
   "execution_count": 20,
   "id": "e867039c",
   "metadata": {},
   "outputs": [],
   "source": [
    "def pipeline(tf_data, buffer_size=100, batch_size=32):\n",
    "    tf_data = tf_data.shuffle(buffer_size)    \n",
    "    tf_data = tf_data.prefetch(tf.data.experimental.AUTOTUNE)\n",
    "    tf_data = tf_data.padded_batch(batch_size, padded_shapes=([None],[]))\n",
    "    \n",
    "    return tf_data\n",
    "\n",
    "tf_data = pipeline(tf_data, buffer_size=1000, batch_size=32)"
   ]
  },
  {
   "cell_type": "code",
   "execution_count": 21,
   "id": "1457e466",
   "metadata": {},
   "outputs": [
    {
     "name": "stdout",
     "output_type": "stream",
     "text": [
      "<PaddedBatchDataset element_spec=(TensorSpec(shape=(None, None), dtype=tf.int32, name=None), TensorSpec(shape=(None,), dtype=tf.int64, name=None))>\n"
     ]
    }
   ],
   "source": [
    "print(tf_data)"
   ]
  },
  {
   "cell_type": "code",
   "execution_count": 22,
   "id": "f20b0243",
   "metadata": {},
   "outputs": [],
   "source": [
    "tf_val_data = tf.data.Dataset.from_tensor_slices((val_encoded_sentences, val_data['target'].values))"
   ]
  },
  {
   "cell_type": "code",
   "execution_count": 23,
   "id": "89a3c1b9",
   "metadata": {},
   "outputs": [],
   "source": [
    "def val_pipeline(tf_data, batch_size=1):        \n",
    "    tf_data = tf_data.prefetch(tf.data.experimental.AUTOTUNE)\n",
    "    tf_data = tf_data.padded_batch(batch_size, padded_shapes=([None],[]))\n",
    "    \n",
    "    return tf_data\n",
    "\n",
    "tf_val_data = val_pipeline(tf_val_data, batch_size=len(val_data))"
   ]
  },
  {
   "cell_type": "code",
   "execution_count": 24,
   "id": "3195dcc1",
   "metadata": {},
   "outputs": [
    {
     "name": "stdout",
     "output_type": "stream",
     "text": [
      "<PaddedBatchDataset element_spec=(TensorSpec(shape=(None, None), dtype=tf.int32, name=None), TensorSpec(shape=(None,), dtype=tf.int64, name=None))>\n"
     ]
    }
   ],
   "source": [
    "print(tf_val_data)"
   ]
  },
  {
   "cell_type": "code",
   "execution_count": 25,
   "id": "4d8c3216",
   "metadata": {},
   "outputs": [],
   "source": [
    "#Train Model\n",
    "embedding = tf.keras.layers.Embedding(\n",
    "    len(tokenizer.word_index) + 1,\n",
    "    100,\n",
    "    embeddings_initializer = tf.keras.initializers.Constant(embedding_matrix),\n",
    "    trainable = True\n",
    ")"
   ]
  },
  {
   "cell_type": "code",
   "execution_count": 26,
   "id": "393ab071",
   "metadata": {},
   "outputs": [],
   "source": [
    "model = tf.keras.Sequential([\n",
    "    embedding,\n",
    "    tf.keras.layers.SpatialDropout1D(0.2),\n",
    "    tf.keras.layers.Bidirectional(tf.keras.layers.LSTM(128, dropout=0.2, recurrent_dropout=0.2)),\n",
    "    tf.keras.layers.Dense(1, activation='sigmoid')\n",
    "])"
   ]
  },
  {
   "cell_type": "code",
   "execution_count": 27,
   "id": "7b845739",
   "metadata": {},
   "outputs": [],
   "source": [
    "model.compile(\n",
    "    loss=tf.keras.losses.BinaryCrossentropy(from_logits=True),\n",
    "    optimizer=tf.keras.optimizers.Adam(0.0001),\n",
    "    metrics=['accuracy', 'Precision', 'Recall']\n",
    ")"
   ]
  },
  {
   "cell_type": "code",
   "execution_count": 28,
   "id": "4aff5636",
   "metadata": {},
   "outputs": [],
   "source": [
    "callbacks = [\n",
    "    tf.keras.callbacks.ReduceLROnPlateau(monitor='loss', patience=2, verbose=1),\n",
    "    tf.keras.callbacks.EarlyStopping(monitor='loss', patience=5, verbose=1),\n",
    "]"
   ]
  },
  {
   "cell_type": "code",
   "execution_count": 29,
   "id": "494e66d4",
   "metadata": {},
   "outputs": [
    {
     "name": "stdout",
     "output_type": "stream",
     "text": [
      "Epoch 1/6\n"
     ]
    },
    {
     "name": "stderr",
     "output_type": "stream",
     "text": [
      "C:\\Users\\Abhishek Jaiswal\\.conda\\envs\\mlenv\\lib\\site-packages\\keras\\backend.py:5676: UserWarning: \"`binary_crossentropy` received `from_logits=True`, but the `output` argument was produced by a Sigmoid activation and thus does not represent logits. Was this intended?\n",
      "  output, from_logits = _get_logits(\n"
     ]
    },
    {
     "name": "stdout",
     "output_type": "stream",
     "text": [
      "625/625 [==============================] - 94s 141ms/step - loss: 0.2481 - accuracy: 0.9236 - precision: 0.3123 - recall: 0.0859 - val_loss: 0.1901 - val_accuracy: 0.9328 - val_precision: 0.6320 - val_recall: 0.2141 - lr: 1.0000e-04\n",
      "Epoch 2/6\n",
      "625/625 [==============================] - 106s 169ms/step - loss: 0.1727 - accuracy: 0.9390 - precision: 0.6608 - recall: 0.2433 - val_loss: 0.1738 - val_accuracy: 0.9370 - val_precision: 0.6570 - val_recall: 0.3062 - lr: 1.0000e-04\n",
      "Epoch 3/6\n",
      "625/625 [==============================] - 118s 188ms/step - loss: 0.1553 - accuracy: 0.9457 - precision: 0.7127 - recall: 0.3617 - val_loss: 0.1705 - val_accuracy: 0.9416 - val_precision: 0.7730 - val_recall: 0.2954 - lr: 1.0000e-04\n",
      "Epoch 4/6\n",
      "625/625 [==============================] - 110s 177ms/step - loss: 0.1430 - accuracy: 0.9483 - precision: 0.7191 - recall: 0.4159 - val_loss: 0.1632 - val_accuracy: 0.9442 - val_precision: 0.7528 - val_recall: 0.3631 - lr: 1.0000e-04\n",
      "Epoch 5/6\n",
      "625/625 [==============================] - 110s 177ms/step - loss: 0.1316 - accuracy: 0.9506 - precision: 0.7123 - recall: 0.4809 - val_loss: 0.1538 - val_accuracy: 0.9444 - val_precision: 0.7241 - val_recall: 0.3984 - lr: 1.0000e-04\n",
      "Epoch 6/6\n",
      "625/625 [==============================] - 108s 173ms/step - loss: 0.1235 - accuracy: 0.9550 - precision: 0.7542 - recall: 0.5206 - val_loss: 0.1560 - val_accuracy: 0.9470 - val_precision: 0.7889 - val_recall: 0.3848 - lr: 1.0000e-04\n"
     ]
    }
   ],
   "source": [
    "history = model.fit(\n",
    "    tf_data, \n",
    "    validation_data = tf_val_data,\n",
    "    epochs = 6,\n",
    "    callbacks = callbacks\n",
    ")"
   ]
  },
  {
   "cell_type": "code",
   "execution_count": 30,
   "id": "2af9435b",
   "metadata": {},
   "outputs": [
    {
     "name": "stdout",
     "output_type": "stream",
     "text": [
      "1/1 [==============================] - 2s 2s/step - loss: 0.1560 - accuracy: 0.9470 - precision: 0.7889 - recall: 0.3848\n",
      "F1 score: 0.5173041952197762\n"
     ]
    }
   ],
   "source": [
    "#Evaluate\n",
    "metrics = model.evaluate(tf_val_data)\n",
    "\n",
    "precision = metrics[2]\n",
    "recall = metrics[3]\n",
    "f1 = 2 * (precision * recall) / (precision + recall)\n",
    "\n",
    "print('F1 score: ' + str(f1)) "
   ]
  },
  {
   "cell_type": "code",
   "execution_count": 33,
   "id": "5de2b415",
   "metadata": {},
   "outputs": [
    {
     "data": {
      "text/plain": [
       "<matplotlib.legend.Legend at 0x26807aedca0>"
      ]
     },
     "execution_count": 33,
     "metadata": {},
     "output_type": "execute_result"
    },
    {
     "data": {
      "image/png": "[encoded data removed]",
      "text/plain": [
       "<Figure size 2000x500 with 4 Axes>"
      ]
     },
     "metadata": {},
     "output_type": "display_data"
    }
   ],
   "source": [
    "#Additionally the metrics produced per epoch when the model was training can be visualised to get a better idea for how the training went.\n",
    "fig, axs = plt.subplots(1, 4, figsize=(20, 5))\n",
    "\n",
    "axs[0].set_title('Loss')\n",
    "axs[0].plot(history.history['loss'], label='train')\n",
    "axs[0].plot(history.history['val_loss'], label='val')\n",
    "axs[0].legend()\n",
    "\n",
    "axs[1].set_title('Accuracy')\n",
    "axs[1].plot(history.history['accuracy'], label='train')\n",
    "axs[1].plot(history.history['val_accuracy'], label='val')\n",
    "axs[1].legend()\n",
    "\n",
    "axs[2].set_title('Precision')\n",
    "axs[2].plot(history.history['precision'], label='train')\n",
    "axs[2].plot(history.history['val_precision'], label='val')\n",
    "axs[2].legend()\n",
    "\n",
    "axs[3].set_title('Recall')\n",
    "axs[3].plot(history.history['recall'], label='train')\n",
    "axs[3].plot(history.history['val_recall'], label='val')\n",
    "axs[3].legend()"
   ]
  },
  {
   "cell_type": "code",
   "execution_count": 34,
   "id": "322fbc48",
   "metadata": {},
   "outputs": [
    {
     "name": "stdout",
     "output_type": "stream",
     "text": [
      "1/1 [==============================] - 3s 3s/step\n"
     ]
    }
   ],
   "source": [
    "predictions = model.predict(tf_val_data)\n",
    "predictions = np.concatenate(predictions).round().astype(int)\n",
    "\n",
    "val_data['predictions'] = predictions"
   ]
  },
  {
   "cell_type": "code",
   "execution_count": 35,
   "id": "365e7757",
   "metadata": {},
   "outputs": [
    {
     "name": "stdout",
     "output_type": "stream",
     "text": [
      "Count of false positives: 38\n"
     ]
    }
   ],
   "source": [
    "false_positives = val_data[(val_data['predictions'] == 1) & (val_data['target'] == 0)]\n",
    "\n",
    "print('Count of false positives: ' + str(len(false_positives)))"
   ]
  },
  {
   "cell_type": "code",
   "execution_count": 36,
   "id": "9f4c8e3d",
   "metadata": {},
   "outputs": [
    {
     "data": {
      "text/html": [
       "<div>\n",
       "<style scoped>\n",
       "    .dataframe tbody tr th:only-of-type {\n",
       "        vertical-align: middle;\n",
       "    }\n",
       "\n",
       "    .dataframe tbody tr th {\n",
       "        vertical-align: top;\n",
       "    }\n",
       "\n",
       "    .dataframe thead th {\n",
       "        text-align: right;\n",
       "    }\n",
       "</style>\n",
       "<table border=\"1\" class=\"dataframe\">\n",
       "  <thead>\n",
       "    <tr style=\"text-align: right;\">\n",
       "      <th></th>\n",
       "      <th>id</th>\n",
       "      <th>label</th>\n",
       "      <th>tweet</th>\n",
       "      <th>text</th>\n",
       "      <th>target</th>\n",
       "      <th>predictions</th>\n",
       "    </tr>\n",
       "  </thead>\n",
       "  <tbody>\n",
       "    <tr>\n",
       "      <th>20192</th>\n",
       "      <td>20193</td>\n",
       "      <td>0.0</td>\n",
       "      <td>everyone hates the white crayon that looks so perfect while the others bleed and break</td>\n",
       "      <td>everyon hate white crayon look perfect other bleed break</td>\n",
       "      <td>0</td>\n",
       "      <td>1</td>\n",
       "    </tr>\n",
       "    <tr>\n",
       "      <th>20233</th>\n",
       "      <td>20234</td>\n",
       "      <td>0.0</td>\n",
       "      <td>@user @user   #clusterfuck when will @user address systemic mass murder in arab states?   @user</td>\n",
       "      <td>#clusterfuck address system mass murder arab states?</td>\n",
       "      <td>0</td>\n",
       "      <td>1</td>\n",
       "    </tr>\n",
       "    <tr>\n",
       "      <th>20265</th>\n",
       "      <td>20266</td>\n",
       "      <td>0.0</td>\n",
       "      <td>what a massive disappointment @user is. suppoing a racist mysogonist liar like @user unfollow and dislike.</td>\n",
       "      <td>massiv disappoint is. suppo racist mysogonist liar like unfollow dislike.</td>\n",
       "      <td>0</td>\n",
       "      <td>1</td>\n",
       "    </tr>\n",
       "    <tr>\n",
       "      <th>20345</th>\n",
       "      <td>20346</td>\n",
       "      <td>0.0</td>\n",
       "      <td>#tuesday! :) #rolling #stones - paint it black  via @user</td>\n",
       "      <td>#tuesday! :) #roll #stone paint black via</td>\n",
       "      <td>0</td>\n",
       "      <td>1</td>\n",
       "    </tr>\n",
       "    <tr>\n",
       "      <th>20512</th>\n",
       "      <td>20513</td>\n",
       "      <td>0.0</td>\n",
       "      <td>french#ultras are wankers and so are the russian, english hooligans. why do these fools always spoil the game?</td>\n",
       "      <td>french#ultra wanker russian, english hooligans. fool alway spoil game?</td>\n",
       "      <td>0</td>\n",
       "      <td>1</td>\n",
       "    </tr>\n",
       "    <tr>\n",
       "      <th>20556</th>\n",
       "      <td>20557</td>\n",
       "      <td>0.0</td>\n",
       "      <td>@user so which of his ideas do you like? muslim ban? the wall? harassing journalists? biher comments? mexicans as rapists?</td>\n",
       "      <td>idea like? muslim ban? wall? harass journalists? biher comments? mexican rapists?</td>\n",
       "      <td>0</td>\n",
       "      <td>1</td>\n",
       "    </tr>\n",
       "    <tr>\n",
       "      <th>20788</th>\n",
       "      <td>20789</td>\n",
       "      <td>0.0</td>\n",
       "      <td>the first black president has endorsed the  first women democratic nominee candidate for the presidency.   #milestone</td>\n",
       "      <td>first black presid endors first women democrat nomine candid presidency. #mileston</td>\n",
       "      <td>0</td>\n",
       "      <td>1</td>\n",
       "    </tr>\n",
       "    <tr>\n",
       "      <th>20858</th>\n",
       "      <td>20859</td>\n",
       "      <td>0.0</td>\n",
       "      <td>.@user @user voters like him not for his policies but because of his racism. #omg</td>\n",
       "      <td>. voter like polici racism. #omg</td>\n",
       "      <td>0</td>\n",
       "      <td>1</td>\n",
       "    </tr>\n",
       "    <tr>\n",
       "      <th>20904</th>\n",
       "      <td>20905</td>\n",
       "      <td>0.0</td>\n",
       "      <td>#foxnewssunday your panel of anti-trump pundits felt like an obviously pathetic attempt to sway undecided voters from suppoing trump</td>\n",
       "      <td>#foxnewssunday panel anti trump pundit felt like obvious pathet attempt sway undecid voter suppo trump</td>\n",
       "      <td>0</td>\n",
       "      <td>1</td>\n",
       "    </tr>\n",
       "    <tr>\n",
       "      <th>21236</th>\n",
       "      <td>21237</td>\n",
       "      <td>0.0</td>\n",
       "      <td>i believe in my hea @user will do more for african americans then obama has ever done which was nothing but welfare @user</td>\n",
       "      <td>believ hea african american obama ever done noth welfar</td>\n",
       "      <td>0</td>\n",
       "      <td>1</td>\n",
       "    </tr>\n",
       "  </tbody>\n",
       "</table>\n",
       "</div>"
      ],
      "text/plain": [
       "          id  label  \\\n",
       "20192  20193    0.0   \n",
       "20233  20234    0.0   \n",
       "20265  20266    0.0   \n",
       "20345  20346    0.0   \n",
       "20512  20513    0.0   \n",
       "20556  20557    0.0   \n",
       "20788  20789    0.0   \n",
       "20858  20859    0.0   \n",
       "20904  20905    0.0   \n",
       "21236  21237    0.0   \n",
       "\n",
       "                                                                                                                                        tweet  \\\n",
       "20192                                                everyone hates the white crayon that looks so perfect while the others bleed and break     \n",
       "20233                                         @user @user   #clusterfuck when will @user address systemic mass murder in arab states?   @user   \n",
       "20265                            what a massive disappointment @user is. suppoing a racist mysogonist liar like @user unfollow and dislike.     \n",
       "20345                                                                               #tuesday! :) #rolling #stones - paint it black  via @user   \n",
       "20512                      french#ultras are wankers and so are the russian, english hooligans. why do these fools always spoil the game?       \n",
       "20556            @user so which of his ideas do you like? muslim ban? the wall? harassing journalists? biher comments? mexicans as rapists?     \n",
       "20788                   the first black president has endorsed the  first women democratic nominee candidate for the presidency.   #milestone   \n",
       "20858                                                     .@user @user voters like him not for his policies but because of his racism. #omg     \n",
       "20904  #foxnewssunday your panel of anti-trump pundits felt like an obviously pathetic attempt to sway undecided voters from suppoing trump     \n",
       "21236             i believe in my hea @user will do more for african americans then obama has ever done which was nothing but welfare @user     \n",
       "\n",
       "                                                                                                         text  \\\n",
       "20192                                                everyon hate white crayon look perfect other bleed break   \n",
       "20233                                                    #clusterfuck address system mass murder arab states?   \n",
       "20265                               massiv disappoint is. suppo racist mysogonist liar like unfollow dislike.   \n",
       "20345                                                               #tuesday! :) #roll #stone paint black via   \n",
       "20512                                  french#ultra wanker russian, english hooligans. fool alway spoil game?   \n",
       "20556                       idea like? muslim ban? wall? harass journalists? biher comments? mexican rapists?   \n",
       "20788                      first black presid endors first women democrat nomine candid presidency. #mileston   \n",
       "20858                                                                        . voter like polici racism. #omg   \n",
       "20904  #foxnewssunday panel anti trump pundit felt like obvious pathet attempt sway undecid voter suppo trump   \n",
       "21236                                                 believ hea african american obama ever done noth welfar   \n",
       "\n",
       "       target  predictions  \n",
       "20192       0            1  \n",
       "20233       0            1  \n",
       "20265       0            1  \n",
       "20345       0            1  \n",
       "20512       0            1  \n",
       "20556       0            1  \n",
       "20788       0            1  \n",
       "20858       0            1  \n",
       "20904       0            1  \n",
       "21236       0            1  "
      ]
     },
     "execution_count": 36,
     "metadata": {},
     "output_type": "execute_result"
    }
   ],
   "source": [
    "false_positives.head(10)"
   ]
  },
  {
   "cell_type": "code",
   "execution_count": 37,
   "id": "1c7ad7ba",
   "metadata": {},
   "outputs": [
    {
     "name": "stdout",
     "output_type": "stream",
     "text": [
      "Count of false negatives: 227\n"
     ]
    }
   ],
   "source": [
    "false_negatives = val_data[(val_data['predictions'] == 0) & (val_data['target'] == 1)]\n",
    "\n",
    "print('Count of false negatives: ' + str(len(false_negatives)))"
   ]
  },
  {
   "cell_type": "code",
   "execution_count": 38,
   "id": "a17c8a0f",
   "metadata": {},
   "outputs": [
    {
     "data": {
      "text/html": [
       "<div>\n",
       "<style scoped>\n",
       "    .dataframe tbody tr th:only-of-type {\n",
       "        vertical-align: middle;\n",
       "    }\n",
       "\n",
       "    .dataframe tbody tr th {\n",
       "        vertical-align: top;\n",
       "    }\n",
       "\n",
       "    .dataframe thead th {\n",
       "        text-align: right;\n",
       "    }\n",
       "</style>\n",
       "<table border=\"1\" class=\"dataframe\">\n",
       "  <thead>\n",
       "    <tr style=\"text-align: right;\">\n",
       "      <th></th>\n",
       "      <th>id</th>\n",
       "      <th>label</th>\n",
       "      <th>tweet</th>\n",
       "      <th>text</th>\n",
       "      <th>target</th>\n",
       "      <th>predictions</th>\n",
       "    </tr>\n",
       "  </thead>\n",
       "  <tbody>\n",
       "    <tr>\n",
       "      <th>23891</th>\n",
       "      <td>23892</td>\n",
       "      <td>0.0</td>\n",
       "      <td>@user you were desperately smearing trump, shapeshifting cuck  !</td>\n",
       "      <td>desper smear trump, shapeshift cuck !</td>\n",
       "      <td>0</td>\n",
       "      <td>1</td>\n",
       "    </tr>\n",
       "    <tr>\n",
       "      <th>23964</th>\n",
       "      <td>23965</td>\n",
       "      <td>0.0</td>\n",
       "      <td>churchill guide to public speaking   trump would call churchill a loser.    #charactermatters  #neverump</td>\n",
       "      <td>churchil guid public speak trump would call churchil loser. #charactermatt #neverump</td>\n",
       "      <td>0</td>\n",
       "      <td>1</td>\n",
       "    </tr>\n",
       "    <tr>\n",
       "      <th>23968</th>\n",
       "      <td>23969</td>\n",
       "      <td>0.0</td>\n",
       "      <td>shocked by what's considered racist these days.</td>\n",
       "      <td>shock consid racist days.</td>\n",
       "      <td>0</td>\n",
       "      <td>1</td>\n",
       "    </tr>\n",
       "    <tr>\n",
       "      <th>23987</th>\n",
       "      <td>23988</td>\n",
       "      <td>0.0</td>\n",
       "      <td>@user @user @user these leftist are so predictable, they are #pathetic &amp;amp;</td>\n",
       "      <td>leftist predictable, #pathet &amp;amp;</td>\n",
       "      <td>0</td>\n",
       "      <td>1</td>\n",
       "    </tr>\n",
       "    <tr>\n",
       "      <th>23988</th>\n",
       "      <td>23989</td>\n",
       "      <td>0.0</td>\n",
       "      <td>@user @user   the #fbi #corrupt #doj are #hillaryclinton &amp;amp; #obama #corrupt #lapdogs.</td>\n",
       "      <td>#fbi #corrupt #doj #hillaryclinton &amp;amp; #obama #corrupt #lapdogs.</td>\n",
       "      <td>0</td>\n",
       "      <td>1</td>\n",
       "    </tr>\n",
       "    <tr>\n",
       "      <th>24215</th>\n",
       "      <td>24216</td>\n",
       "      <td>0.0</td>\n",
       "      <td>@user what pa of \"no mayo, no oil\" was not clear? here they both are oozing out #gross #unhappytraveler</td>\n",
       "      <td>pa mayo, oil clear? ooz #gross #unhappytravel</td>\n",
       "      <td>0</td>\n",
       "      <td>1</td>\n",
       "    </tr>\n",
       "    <tr>\n",
       "      <th>24604</th>\n",
       "      <td>24605</td>\n",
       "      <td>0.0</td>\n",
       "      <td>@user @user you can't hate radical islamic terrorists now? america in 2016.  .</td>\n",
       "      <td>can't hate radic islam terrorist now? america 2016. .</td>\n",
       "      <td>0</td>\n",
       "      <td>1</td>\n",
       "    </tr>\n",
       "    <tr>\n",
       "      <th>24851</th>\n",
       "      <td>24852</td>\n",
       "      <td>0.0</td>\n",
       "      <td>@user @user so now roseanne is walking back her endorsement of a racist, whilst judging ppl by the # of their followers.</td>\n",
       "      <td>roseann walk back endors racist, whilst judg ppl # followers.</td>\n",
       "      <td>0</td>\n",
       "      <td>1</td>\n",
       "    </tr>\n",
       "    <tr>\n",
       "      <th>24927</th>\n",
       "      <td>24928</td>\n",
       "      <td>0.0</td>\n",
       "      <td>most tolerant nation in the world is india!   we tolerated #corruption #rapes #justice #blackmagic #blindfaith #scammers #criminals</td>\n",
       "      <td>toler nation world india! toler #corrupt #rape #justic #blackmag #blindfaith #scammer #crimin</td>\n",
       "      <td>0</td>\n",
       "      <td>1</td>\n",
       "    </tr>\n",
       "    <tr>\n",
       "      <th>24979</th>\n",
       "      <td>24980</td>\n",
       "      <td>0.0</td>\n",
       "      <td>#not   #dailysketch #e3 @ new york - george washington bridge</td>\n",
       "      <td>#not #dailysketch #e3 @ new york georg washington bridg</td>\n",
       "      <td>0</td>\n",
       "      <td>1</td>\n",
       "    </tr>\n",
       "  </tbody>\n",
       "</table>\n",
       "</div>"
      ],
      "text/plain": [
       "          id  label  \\\n",
       "23891  23892    0.0   \n",
       "23964  23965    0.0   \n",
       "23968  23969    0.0   \n",
       "23987  23988    0.0   \n",
       "23988  23989    0.0   \n",
       "24215  24216    0.0   \n",
       "24604  24605    0.0   \n",
       "24851  24852    0.0   \n",
       "24927  24928    0.0   \n",
       "24979  24980    0.0   \n",
       "\n",
       "                                                                                                                                         tweet  \\\n",
       "23891                                                                         @user you were desperately smearing trump, shapeshifting cuck  !   \n",
       "23964                                 churchill guide to public speaking   trump would call churchill a loser.    #charactermatters  #neverump   \n",
       "23968                                                                                      shocked by what's considered racist these days.       \n",
       "23987                                                           @user @user @user these leftist are so predictable, they are #pathetic &amp;     \n",
       "23988                                                @user @user   the #fbi #corrupt #doj are #hillaryclinton &amp; #obama #corrupt #lapdogs.    \n",
       "24215                               @user what pa of \"no mayo, no oil\" was not clear? here they both are oozing out #gross #unhappytraveler      \n",
       "24604                                                           @user @user you can't hate radical islamic terrorists now? america in 2016.  .   \n",
       "24851               @user @user so now roseanne is walking back her endorsement of a racist, whilst judging ppl by the # of their followers.     \n",
       "24927  most tolerant nation in the world is india!   we tolerated #corruption #rapes #justice #blackmagic #blindfaith #scammers #criminals       \n",
       "24979                                                                           #not   #dailysketch #e3 @ new york - george washington bridge    \n",
       "\n",
       "                                                                                                text  \\\n",
       "23891                                                          desper smear trump, shapeshift cuck !   \n",
       "23964           churchil guid public speak trump would call churchil loser. #charactermatt #neverump   \n",
       "23968                                                                      shock consid racist days.   \n",
       "23987                                                             leftist predictable, #pathet &amp;   \n",
       "23988                             #fbi #corrupt #doj #hillaryclinton &amp; #obama #corrupt #lapdogs.   \n",
       "24215                                                  pa mayo, oil clear? ooz #gross #unhappytravel   \n",
       "24604                                          can't hate radic islam terrorist now? america 2016. .   \n",
       "24851                                  roseann walk back endors racist, whilst judg ppl # followers.   \n",
       "24927  toler nation world india! toler #corrupt #rape #justic #blackmag #blindfaith #scammer #crimin   \n",
       "24979                                        #not #dailysketch #e3 @ new york georg washington bridg   \n",
       "\n",
       "       target  predictions  \n",
       "23891       0            1  \n",
       "23964       0            1  \n",
       "23968       0            1  \n",
       "23987       0            1  \n",
       "23988       0            1  \n",
       "24215       0            1  \n",
       "24604       0            1  \n",
       "24851       0            1  \n",
       "24927       0            1  \n",
       "24979       0            1  "
      ]
     },
     "execution_count": 38,
     "metadata": {},
     "output_type": "execute_result"
    }
   ],
   "source": [
    "false_positives.tail(10)"
   ]
  },
  {
   "cell_type": "code",
   "execution_count": 39,
   "id": "8f80039f",
   "metadata": {},
   "outputs": [
    {
     "name": "stdout",
     "output_type": "stream",
     "text": [
      "6962/6962 [==============================] - 96s 14ms/step\n"
     ]
    }
   ],
   "source": [
    "#Predictions\n",
    "tf_test_data = tf.data.Dataset.from_tensor_slices((encoded_test_sentences))\n",
    "\n",
    "def test_pipeline(tf_data, batch_size=1):        \n",
    "    tf_data = tf_data.prefetch(tf.data.experimental.AUTOTUNE)\n",
    "    tf_data = tf_data.padded_batch(batch_size, padded_shapes=([None]))\n",
    "    \n",
    "    return tf_data\n",
    "\n",
    "tf_test_data = test_pipeline(tf_test_data)\n",
    "\n",
    "predictions = model.predict(tf_test_data)\n",
    "\n",
    "predictions = np.concatenate(predictions).round().astype(int)\n"
   ]
  },
  {
   "cell_type": "code",
   "execution_count": 40,
   "id": "0bea2b97",
   "metadata": {},
   "outputs": [],
   "source": [
    "#submission = pd.DataFrame(data={'target': predictions}, index=test_data['id'])\n",
    "#submission.index = submission.index.rename('id')\n",
    "#submission.to_csv('submission.csv')"
   ]
  },
  {
   "cell_type": "markdown",
   "id": "e66d8743",
   "metadata": {},
   "source": [
    "### Word mismatch\n",
    "### Earlier in the notebook I mentioned that the training, validation and test datasets are likely to contain words that the other datasets do not. If the model is only trained on the words in the training dataset there may be an overfitting problem when the model tries to read words it doesn't recognise in the validation and the test datasets."
   ]
  },
  {
   "cell_type": "code",
   "execution_count": 42,
   "id": "392adfe5",
   "metadata": {},
   "outputs": [],
   "source": [
    "def compare_words(train_words, test_words):\n",
    "    unique_words = len(np.union1d(train_words, test_words))\n",
    "    matching = len(np.intersect1d(train_words, test_words))\n",
    "    not_in_train = len(np.setdiff1d(test_words, train_words))\n",
    "    not_in_test = len(np.setdiff1d(train_words, test_words))\n",
    "    \n",
    "    print('Count of unique words in both arrays: ' + str(unique_words))\n",
    "    print('Count of matching words: ' + str(matching))\n",
    "    print('Count of words in first array but not in second: ' + str(not_in_test))\n",
    "    print('Count of words in second array but not first: ' + str(not_in_train))"
   ]
  },
  {
   "cell_type": "code",
   "execution_count": 43,
   "id": "61301a98",
   "metadata": {},
   "outputs": [
    {
     "name": "stdout",
     "output_type": "stream",
     "text": [
      "Count of unique words in both arrays: 35952\n",
      "Count of matching words: 7185\n",
      "Count of words in first array but not in second: 23918\n",
      "Count of words in second array but not first: 4849\n"
     ]
    }
   ],
   "source": [
    "compare_words(encoded_sentences, val_encoded_sentences)"
   ]
  },
  {
   "cell_type": "code",
   "execution_count": 44,
   "id": "a98a2fdb",
   "metadata": {},
   "outputs": [
    {
     "name": "stdout",
     "output_type": "stream",
     "text": [
      "Count of unique words in both arrays: 37926\n",
      "Count of matching words: 8296\n",
      "Count of words in first array but not in second: 22807\n",
      "Count of words in second array but not first: 6823\n"
     ]
    }
   ],
   "source": [
    "compare_words(encoded_sentences, encoded_test_sentences)"
   ]
  },
  {
   "cell_type": "code",
   "execution_count": null,
   "id": "c00401f6",
   "metadata": {},
   "outputs": [],
   "source": []
  },
  {
   "cell_type": "code",
   "execution_count": 45,
   "id": "0db29aca",
   "metadata": {},
   "outputs": [],
   "source": [
    "### Randomly initialised word embedding\n",
    "### Before I started using the imported GloVe word embeddings I trained the model using a randomly initialised embedding. It performed quite well (though not as well as the GloVe embedding) so I thought I would keep the code down here.\n",
    "\n",
    "# model = tf.keras.Sequential([\n",
    "#     tf.keras.layers.Embedding(len(tokenizer.word_index) + 1, 200),\n",
    "#     tf.keras.layers.Bidirectional(tf.keras.layers.SimpleRNN(64)),\n",
    "#     tf.keras.layers.Dense(1, activation='sigmoid')\n",
    "# ])"
   ]
  },
  {
   "cell_type": "code",
   "execution_count": 46,
   "id": "57964a9b",
   "metadata": {},
   "outputs": [],
   "source": [
    "#https://www.kaggle.com/code/mattbast/rnn-and-nlp-detect-a-disaster-in-tweets/notebook"
   ]
  },
  {
   "cell_type": "code",
   "execution_count": 3,
   "id": "6c499690",
   "metadata": {},
   "outputs": [],
   "source": [
    "#https://www.kaggle.com/code/kcsener/8-recurrent-neural-network-rnn-tutorial\n",
    "#https://www.kaggle.com/code/prashant111/comprehensive-guide-to-rnn-with-keras\n",
    "#https://www.kaggle.com/code/therealcyberlord/fake-news-detection-using-rnn/notebook"
   ]
  },
  {
   "cell_type": "markdown",
   "id": "4e4e7973",
   "metadata": {},
   "source": [
    "### use case 2"
   ]
  },
  {
   "cell_type": "code",
   "execution_count": 1,
   "id": "045d197c",
   "metadata": {},
   "outputs": [],
   "source": [
    "import pandas as pd \n",
    "import matplotlib.pyplot as plt \n",
    "import numpy as np \n",
    "import tensorflow as tf \n",
    "import re \n",
    "from tensorflow.keras.preprocessing.text import Tokenizer\n",
    "import tensorflow as tf\n",
    "from sklearn.metrics import accuracy_score\n",
    "from sklearn.model_selection import train_test_split\n",
    "from sklearn.metrics import accuracy_score, confusion_matrix, precision_score, recall_score\n",
    "import seaborn as sns \n",
    "plt.style.use('ggplot')"
   ]
  },
  {
   "cell_type": "code",
   "execution_count": 2,
   "id": "3810d261",
   "metadata": {},
   "outputs": [],
   "source": [
    "#Read the data\n",
    "fake_df = pd.read_csv('C:/BITsPilaniMTECH2123/Sem3/NLP/NLP_All_Practice/Word2vec_Doc2vec/Fake.csv')\n",
    "real_df = pd.read_csv('C:/BITsPilaniMTECH2123/Sem3/NLP/NLP_All_Practice/Word2vec_Doc2vec/True.csv')"
   ]
  },
  {
   "cell_type": "code",
   "execution_count": 3,
   "id": "2c0502f6",
   "metadata": {},
   "outputs": [
    {
     "data": {
      "text/plain": [
       "title      0\n",
       "text       0\n",
       "subject    0\n",
       "date       0\n",
       "dtype: int64"
      ]
     },
     "execution_count": 3,
     "metadata": {},
     "output_type": "execute_result"
    }
   ],
   "source": [
    "#Checking for null values\n",
    "fake_df.isnull().sum()\n",
    "real_df.isnull().sum()"
   ]
  },
  {
   "cell_type": "code",
   "execution_count": 4,
   "id": "c21cb1d5",
   "metadata": {},
   "outputs": [
    {
     "name": "stdout",
     "output_type": "stream",
     "text": [
      "Fake: ['News' 'politics' 'Government News' 'left-news' 'US_News' 'Middle-east']\n",
      "Real: ['politicsNews' 'worldnews']\n"
     ]
    }
   ],
   "source": [
    "#Checking for unique values for subject. We want both data frames to have a similar distribution.\n",
    "print(\"Fake:\", fake_df.subject.unique())\n",
    "print(\"Real:\", real_df.subject.unique())"
   ]
  },
  {
   "cell_type": "code",
   "execution_count": 5,
   "id": "68520344",
   "metadata": {},
   "outputs": [],
   "source": [
    "#Dropping features\n",
    "fake_df.drop(['date', 'subject'], axis=1, inplace=True)\n",
    "real_df.drop(['date', 'subject'], axis=1, inplace=True)"
   ]
  },
  {
   "cell_type": "code",
   "execution_count": 6,
   "id": "2f097e97",
   "metadata": {},
   "outputs": [],
   "source": [
    "#Target\n",
    "fake_df['class'] = 0 \n",
    "real_df['class'] = 1"
   ]
  },
  {
   "cell_type": "code",
   "execution_count": 7,
   "id": "94baab55",
   "metadata": {},
   "outputs": [
    {
     "data": {
      "text/plain": [
       "Text(0, 0.5, 'Proportion of News Articles')"
      ]
     },
     "execution_count": 7,
     "metadata": {},
     "output_type": "execute_result"
    },
    {
     "data": {
      "image/png": "[encoded data removed]",
      "text/plain": [
       "<Figure size 1000x500 with 1 Axes>"
      ]
     },
     "metadata": {},
     "output_type": "display_data"
    },
    {
     "data": {
      "image/png": "[encoded data removed]",
      "text/plain": [
       "<Figure size 1000x500 with 1 Axes>"
      ]
     },
     "metadata": {},
     "output_type": "display_data"
    }
   ],
   "source": [
    "#Check out the distribution of fake news compare to real news\n",
    "\n",
    "plt.figure(figsize=(10, 5))\n",
    "plt.bar('Fake News', len(fake_df), color='orange')\n",
    "plt.bar('Real News', len(real_df), color='green')\n",
    "plt.title('Distribution of Fake News and Real News', size=15)\n",
    "plt.xlabel('News Type', size=15)\n",
    "plt.ylabel('# of News Articles', size=15)\n",
    "\n",
    "\n",
    "total_len = len(fake_df) + len(real_df)\n",
    "plt.figure(figsize=(10, 5))\n",
    "plt.bar('Fake News', len(fake_df) / total_len, color='orange')\n",
    "plt.bar('Real News', len(real_df) / total_len, color='green')\n",
    "plt.title('Distribution of Fake News and Real News', size=15)\n",
    "plt.xlabel('News Type', size=15)\n",
    "plt.ylabel('Proportion of News Articles', size=15)"
   ]
  },
  {
   "cell_type": "code",
   "execution_count": 8,
   "id": "42696b8c",
   "metadata": {},
   "outputs": [
    {
     "name": "stdout",
     "output_type": "stream",
     "text": [
      "Difference in news articles: 2064\n"
     ]
    }
   ],
   "source": [
    "print('Difference in news articles:',len(fake_df)-len(real_df))"
   ]
  },
  {
   "cell_type": "code",
   "execution_count": 9,
   "id": "3326a2a4",
   "metadata": {},
   "outputs": [
    {
     "data": {
      "text/html": [
       "<div>\n",
       "<style scoped>\n",
       "    .dataframe tbody tr th:only-of-type {\n",
       "        vertical-align: middle;\n",
       "    }\n",
       "\n",
       "    .dataframe tbody tr th {\n",
       "        vertical-align: top;\n",
       "    }\n",
       "\n",
       "    .dataframe thead th {\n",
       "        text-align: right;\n",
       "    }\n",
       "</style>\n",
       "<table border=\"1\" class=\"dataframe\">\n",
       "  <thead>\n",
       "    <tr style=\"text-align: right;\">\n",
       "      <th></th>\n",
       "      <th>title</th>\n",
       "      <th>text</th>\n",
       "      <th>class</th>\n",
       "    </tr>\n",
       "  </thead>\n",
       "  <tbody>\n",
       "    <tr>\n",
       "      <th>0</th>\n",
       "      <td>Donald Trump Sends Out Embarrassing New Year’...</td>\n",
       "      <td>Donald Trump just couldn t wish all Americans ...</td>\n",
       "      <td>0</td>\n",
       "    </tr>\n",
       "    <tr>\n",
       "      <th>1</th>\n",
       "      <td>Drunk Bragging Trump Staffer Started Russian ...</td>\n",
       "      <td>House Intelligence Committee Chairman Devin Nu...</td>\n",
       "      <td>0</td>\n",
       "    </tr>\n",
       "    <tr>\n",
       "      <th>2</th>\n",
       "      <td>Sheriff David Clarke Becomes An Internet Joke...</td>\n",
       "      <td>On Friday, it was revealed that former Milwauk...</td>\n",
       "      <td>0</td>\n",
       "    </tr>\n",
       "    <tr>\n",
       "      <th>3</th>\n",
       "      <td>Trump Is So Obsessed He Even Has Obama’s Name...</td>\n",
       "      <td>On Christmas day, Donald Trump announced that ...</td>\n",
       "      <td>0</td>\n",
       "    </tr>\n",
       "    <tr>\n",
       "      <th>4</th>\n",
       "      <td>Pope Francis Just Called Out Donald Trump Dur...</td>\n",
       "      <td>Pope Francis used his annual Christmas Day mes...</td>\n",
       "      <td>0</td>\n",
       "    </tr>\n",
       "    <tr>\n",
       "      <th>...</th>\n",
       "      <td>...</td>\n",
       "      <td>...</td>\n",
       "      <td>...</td>\n",
       "    </tr>\n",
       "    <tr>\n",
       "      <th>44893</th>\n",
       "      <td>'Fully committed' NATO backs new U.S. approach...</td>\n",
       "      <td>BRUSSELS (Reuters) - NATO allies on Tuesday we...</td>\n",
       "      <td>1</td>\n",
       "    </tr>\n",
       "    <tr>\n",
       "      <th>44894</th>\n",
       "      <td>LexisNexis withdrew two products from Chinese ...</td>\n",
       "      <td>LONDON (Reuters) - LexisNexis, a provider of l...</td>\n",
       "      <td>1</td>\n",
       "    </tr>\n",
       "    <tr>\n",
       "      <th>44895</th>\n",
       "      <td>Minsk cultural hub becomes haven from authorities</td>\n",
       "      <td>MINSK (Reuters) - In the shadow of disused Sov...</td>\n",
       "      <td>1</td>\n",
       "    </tr>\n",
       "    <tr>\n",
       "      <th>44896</th>\n",
       "      <td>Vatican upbeat on possibility of Pope Francis ...</td>\n",
       "      <td>MOSCOW (Reuters) - Vatican Secretary of State ...</td>\n",
       "      <td>1</td>\n",
       "    </tr>\n",
       "    <tr>\n",
       "      <th>44897</th>\n",
       "      <td>Indonesia to buy $1.14 billion worth of Russia...</td>\n",
       "      <td>JAKARTA (Reuters) - Indonesia will buy 11 Sukh...</td>\n",
       "      <td>1</td>\n",
       "    </tr>\n",
       "  </tbody>\n",
       "</table>\n",
       "<p>44898 rows × 3 columns</p>\n",
       "</div>"
      ],
      "text/plain": [
       "                                                   title  \\\n",
       "0       Donald Trump Sends Out Embarrassing New Year’...   \n",
       "1       Drunk Bragging Trump Staffer Started Russian ...   \n",
       "2       Sheriff David Clarke Becomes An Internet Joke...   \n",
       "3       Trump Is So Obsessed He Even Has Obama’s Name...   \n",
       "4       Pope Francis Just Called Out Donald Trump Dur...   \n",
       "...                                                  ...   \n",
       "44893  'Fully committed' NATO backs new U.S. approach...   \n",
       "44894  LexisNexis withdrew two products from Chinese ...   \n",
       "44895  Minsk cultural hub becomes haven from authorities   \n",
       "44896  Vatican upbeat on possibility of Pope Francis ...   \n",
       "44897  Indonesia to buy $1.14 billion worth of Russia...   \n",
       "\n",
       "                                                    text  class  \n",
       "0      Donald Trump just couldn t wish all Americans ...      0  \n",
       "1      House Intelligence Committee Chairman Devin Nu...      0  \n",
       "2      On Friday, it was revealed that former Milwauk...      0  \n",
       "3      On Christmas day, Donald Trump announced that ...      0  \n",
       "4      Pope Francis used his annual Christmas Day mes...      0  \n",
       "...                                                  ...    ...  \n",
       "44893  BRUSSELS (Reuters) - NATO allies on Tuesday we...      1  \n",
       "44894  LONDON (Reuters) - LexisNexis, a provider of l...      1  \n",
       "44895  MINSK (Reuters) - In the shadow of disused Sov...      1  \n",
       "44896  MOSCOW (Reuters) - Vatican Secretary of State ...      1  \n",
       "44897  JAKARTA (Reuters) - Indonesia will buy 11 Sukh...      1  \n",
       "\n",
       "[44898 rows x 3 columns]"
      ]
     },
     "execution_count": 9,
     "metadata": {},
     "output_type": "execute_result"
    }
   ],
   "source": [
    "#Merge\n",
    "news_df = pd.concat([fake_df, real_df], ignore_index=True, sort=False)\n",
    "news_df"
   ]
  },
  {
   "cell_type": "code",
   "execution_count": 10,
   "id": "410fa89f",
   "metadata": {},
   "outputs": [],
   "source": [
    "#Combining the title with the text, it is much easier to process this way.\n",
    "news_df['text'] = news_df['title'] + news_df['text']\n",
    "news_df.drop('title', axis=1, inplace=True)"
   ]
  },
  {
   "cell_type": "code",
   "execution_count": 11,
   "id": "6b235a11",
   "metadata": {},
   "outputs": [],
   "source": [
    "#Split into training and testing\n",
    "features = news_df['text']\n",
    "targets = news_df['class']\n",
    "\n",
    "X_train, X_test, y_train, y_test = train_test_split(features, targets, test_size=0.20, random_state=18)"
   ]
  },
  {
   "cell_type": "code",
   "execution_count": 12,
   "id": "45198f3b",
   "metadata": {},
   "outputs": [],
   "source": [
    "#Normalizing our data: lower case, get rid of extra spaces, and url links.\n",
    "def normalize(data):\n",
    "    normalized = []\n",
    "    for i in data:\n",
    "        i = i.lower()\n",
    "        # get rid of urls\n",
    "        i = re.sub('https?://\\S+|www\\.\\S+', '', i)\n",
    "        # get rid of non words and extra spaces\n",
    "        i = re.sub('\\\\W', ' ', i)\n",
    "        i = re.sub('\\n', '', i)\n",
    "        i = re.sub(' +', ' ', i)\n",
    "        i = re.sub('^ ', '', i)\n",
    "        i = re.sub(' $', '', i)\n",
    "        normalized.append(i)\n",
    "    return normalized\n",
    "\n",
    "X_train = normalize(X_train)\n",
    "X_test = normalize(X_test)"
   ]
  },
  {
   "cell_type": "code",
   "execution_count": 13,
   "id": "490616b7",
   "metadata": {},
   "outputs": [],
   "source": [
    "#Text to Number conversion\n",
    "#Convert text to vectors, our classifier only takes numerical data.\n",
    "\n",
    "max_vocab = 10000\n",
    "tokenizer = Tokenizer(num_words=max_vocab)\n",
    "tokenizer.fit_on_texts(X_train)\n",
    "\n",
    "# tokenize the text into vectors \n",
    "X_train = tokenizer.texts_to_sequences(X_train)\n",
    "X_test = tokenizer.texts_to_sequences(X_test)"
   ]
  },
  {
   "cell_type": "code",
   "execution_count": 14,
   "id": "d57684b0",
   "metadata": {},
   "outputs": [],
   "source": [
    "#Apply padding so we have the same length for each article\n",
    "X_train = tf.keras.preprocessing.sequence.pad_sequences(X_train, padding='post', maxlen=256)\n",
    "X_test = tf.keras.preprocessing.sequence.pad_sequences(X_test, padding='post', maxlen=256)"
   ]
  },
  {
   "cell_type": "code",
   "execution_count": 15,
   "id": "61313eca",
   "metadata": {},
   "outputs": [
    {
     "name": "stdout",
     "output_type": "stream",
     "text": [
      "Model: \"sequential\"\n",
      "_________________________________________________________________\n",
      " Layer (type)                Output Shape              Param #   \n",
      "=================================================================\n",
      " embedding (Embedding)       (None, None, 128)         1280000   \n",
      "                                                                 \n",
      " bidirectional (Bidirectiona  (None, None, 128)        98816     \n",
      " l)                                                              \n",
      "                                                                 \n",
      " bidirectional_1 (Bidirectio  (None, 32)               18560     \n",
      " nal)                                                            \n",
      "                                                                 \n",
      " dense (Dense)               (None, 64)                2112      \n",
      "                                                                 \n",
      " dropout (Dropout)           (None, 64)                0         \n",
      "                                                                 \n",
      " dense_1 (Dense)             (None, 1)                 65        \n",
      "                                                                 \n",
      "=================================================================\n",
      "Total params: 1,399,553\n",
      "Trainable params: 1,399,553\n",
      "Non-trainable params: 0\n",
      "_________________________________________________________________\n"
     ]
    }
   ],
   "source": [
    "#Building the RNN.\n",
    "model = tf.keras.Sequential([\n",
    "    tf.keras.layers.Embedding(max_vocab, 128),\n",
    "    tf.keras.layers.Bidirectional(tf.keras.layers.LSTM(64,  return_sequences=True)),\n",
    "    tf.keras.layers.Bidirectional(tf.keras.layers.LSTM(16)),\n",
    "    tf.keras.layers.Dense(64, activation='relu'),\n",
    "    tf.keras.layers.Dropout(0.5),\n",
    "    tf.keras.layers.Dense(1)\n",
    "])\n",
    "\n",
    "model.summary()"
   ]
  },
  {
   "cell_type": "code",
   "execution_count": 16,
   "id": "feab2af1",
   "metadata": {},
   "outputs": [
    {
     "name": "stderr",
     "output_type": "stream",
     "text": [
      "C:\\Users\\Abhishek Jaiswal\\.conda\\envs\\mlenv\\lib\\site-packages\\keras\\engine\\data_adapter.py:1696: FutureWarning: The behavior of `series[i:j]` with an integer-dtype index is deprecated. In a future version, this will be treated as *label-based* indexing, consistent with e.g. `series[i]` lookups. To retain the old behavior, use `series.iloc[i:j]`. To get the future behavior, use `series.loc[i:j]`.\n",
      "  return t[start:end]\n"
     ]
    },
    {
     "name": "stdout",
     "output_type": "stream",
     "text": [
      "Epoch 1/5\n",
      "1078/1078 [==============================] - 725s 658ms/step - loss: 0.2425 - accuracy: 0.8778 - val_loss: 0.0642 - val_accuracy: 0.9805\n",
      "Epoch 2/5\n",
      "1078/1078 [==============================] - 615s 571ms/step - loss: 0.0434 - accuracy: 0.9890 - val_loss: 0.0319 - val_accuracy: 0.9900\n",
      "Epoch 3/5\n",
      "1078/1078 [==============================] - 601s 558ms/step - loss: 0.0199 - accuracy: 0.9953 - val_loss: 0.0290 - val_accuracy: 0.9886\n",
      "Epoch 4/5\n",
      "1078/1078 [==============================] - 584s 541ms/step - loss: 0.0130 - accuracy: 0.9970 - val_loss: 0.0305 - val_accuracy: 0.9894\n",
      "Epoch 5/5\n",
      "1078/1078 [==============================] - 506s 470ms/step - loss: 0.0062 - accuracy: 0.9988 - val_loss: 0.0213 - val_accuracy: 0.9947\n"
     ]
    }
   ],
   "source": [
    "#We are going to use early stop, which stops when the validation loss no longer improve.\n",
    "early_stop = tf.keras.callbacks.EarlyStopping(monitor='val_loss', patience=2, restore_best_weights=True)\n",
    "model.compile(loss=tf.keras.losses.BinaryCrossentropy(from_logits=True),\n",
    "              optimizer=tf.keras.optimizers.Adam(1e-4),\n",
    "              metrics=['accuracy'])\n",
    "\n",
    "history = model.fit(X_train, y_train, epochs=5,validation_split=0.1, batch_size=30, shuffle=True, callbacks=[early_stop])"
   ]
  },
  {
   "cell_type": "code",
   "execution_count": 17,
   "id": "da9f8d77",
   "metadata": {},
   "outputs": [
    {
     "data": {
      "image/png": "[encoded data removed]",
      "text/plain": [
       "<Figure size 1200x900 with 1 Axes>"
      ]
     },
     "metadata": {},
     "output_type": "display_data"
    },
    {
     "data": {
      "image/png": "[encoded data removed]",
      "text/plain": [
       "<Figure size 1200x900 with 1 Axes>"
      ]
     },
     "metadata": {},
     "output_type": "display_data"
    }
   ],
   "source": [
    "#Visualize our training over time\n",
    "history_dict = history.history\n",
    "\n",
    "acc = history_dict['accuracy']\n",
    "val_acc = history_dict['val_accuracy']\n",
    "loss = history_dict['loss']\n",
    "val_loss = history_dict['val_loss']\n",
    "epochs = history.epoch\n",
    "\n",
    "plt.figure(figsize=(12,9))\n",
    "plt.plot(epochs, loss, 'r', label='Training loss')\n",
    "plt.plot(epochs, val_loss, 'b', label='Validation loss')\n",
    "plt.title('Training and validation loss', size=20)\n",
    "plt.xlabel('Epochs', size=20)\n",
    "plt.ylabel('Loss', size=20)\n",
    "plt.legend(prop={'size': 20})\n",
    "plt.show()\n",
    "\n",
    "plt.figure(figsize=(12,9))\n",
    "plt.plot(epochs, acc, 'g', label='Training acc')\n",
    "plt.plot(epochs, val_acc, 'b', label='Validation acc')\n",
    "plt.title('Training and validation accuracy', size=20)\n",
    "plt.xlabel('Epochs', size=20)\n",
    "plt.ylabel('Accuracy', size=20)\n",
    "plt.legend(prop={'size': 20})\n",
    "plt.ylim((0.5,1))\n",
    "plt.show()\n"
   ]
  },
  {
   "cell_type": "code",
   "execution_count": 18,
   "id": "c6d65e40",
   "metadata": {},
   "outputs": [
    {
     "name": "stdout",
     "output_type": "stream",
     "text": [
      "281/281 [==============================] - 34s 122ms/step - loss: 0.0315 - accuracy: 0.9921\n"
     ]
    },
    {
     "data": {
      "text/plain": [
       "[0.03154575452208519, 0.992093563079834]"
      ]
     },
     "execution_count": 18,
     "metadata": {},
     "output_type": "execute_result"
    }
   ],
   "source": [
    "#Evaluate the testing set\n",
    "model.evaluate(X_test, y_test)"
   ]
  },
  {
   "cell_type": "code",
   "execution_count": 19,
   "id": "61dfc8a4",
   "metadata": {},
   "outputs": [
    {
     "name": "stdout",
     "output_type": "stream",
     "text": [
      "281/281 [==============================] - 35s 116ms/step\n"
     ]
    }
   ],
   "source": [
    "pred = model.predict(X_test)\n",
    "\n",
    "binary_predictions = []\n",
    "\n",
    "for i in pred:\n",
    "    if i >= 0.5:\n",
    "        binary_predictions.append(1)\n",
    "    else:\n",
    "        binary_predictions.append(0) "
   ]
  },
  {
   "cell_type": "code",
   "execution_count": 20,
   "id": "ff49a6e6",
   "metadata": {},
   "outputs": [
    {
     "name": "stdout",
     "output_type": "stream",
     "text": [
      "Accuracy on testing set: 0.9920935412026726\n",
      "Precision on testing set: 0.9905048633626679\n",
      "Recall on testing set: 0.9930345948456002\n"
     ]
    }
   ],
   "source": [
    "print('Accuracy on testing set:', accuracy_score(binary_predictions, y_test))\n",
    "print('Precision on testing set:', precision_score(binary_predictions, y_test))\n",
    "print('Recall on testing set:', recall_score(binary_predictions, y_test))"
   ]
  },
  {
   "cell_type": "code",
   "execution_count": 21,
   "id": "d8662361",
   "metadata": {},
   "outputs": [
    {
     "data": {
      "text/plain": [
       "[Text(0, 0.5, '0'), Text(0, 1.5, '1')]"
      ]
     },
     "execution_count": 21,
     "metadata": {},
     "output_type": "execute_result"
    },
    {
     "data": {
      "image/png": "[encoded data removed]",
      "text/plain": [
       "<Figure size 1600x1000 with 2 Axes>"
      ]
     },
     "metadata": {},
     "output_type": "display_data"
    }
   ],
   "source": [
    "#Confusion matrix\n",
    "matrix = confusion_matrix(binary_predictions, y_test, normalize='all')\n",
    "plt.figure(figsize=(16, 10))\n",
    "ax= plt.subplot()\n",
    "sns.heatmap(matrix, annot=True, ax = ax)\n",
    "\n",
    "# labels, title and ticks\n",
    "ax.set_xlabel('Predicted Labels', size=20)\n",
    "ax.set_ylabel('True Labels', size=20)\n",
    "ax.set_title('Confusion Matrix', size=20) \n",
    "ax.xaxis.set_ticklabels([0,1], size=15)\n",
    "ax.yaxis.set_ticklabels([0,1], size=15)"
   ]
  },
  {
   "cell_type": "code",
   "execution_count": 22,
   "id": "66df8615",
   "metadata": {},
   "outputs": [
    {
     "name": "stdout",
     "output_type": "stream",
     "text": [
      "(10000, 128)\n"
     ]
    }
   ],
   "source": [
    "#Saves the weights for visualiation\n",
    "e = model.layers[0]\n",
    "weights = e.get_weights()[0]\n",
    "print(weights.shape) # shape: (vocab_size, embedding_dim)"
   ]
  },
  {
   "cell_type": "code",
   "execution_count": 23,
   "id": "d1ff146d",
   "metadata": {},
   "outputs": [],
   "source": [
    "word_index = list(tokenizer.word_index.keys())\n",
    "word_index = word_index[:max_vocab-1]"
   ]
  },
  {
   "cell_type": "code",
   "execution_count": 24,
   "id": "20d2b8e7",
   "metadata": {},
   "outputs": [],
   "source": [
    "#Write to file so we can use tensorflow's embedding projector to visualize what our network learned. This is only based on the fake news dataset.\n",
    "import io\n",
    "\n",
    "out_v = io.open('fakenews_vecs.tsv', 'w', encoding='utf-8')\n",
    "out_m = io.open('fakenews_meta.tsv', 'w', encoding='utf-8')\n",
    "\n",
    "for num, word in enumerate(word_index):\n",
    "  vec = weights[num+1] # skip 0, it's padding.\n",
    "  out_m.write(word + \"\\n\")\n",
    "  out_v.write('\\t'.join([str(x) for x in vec]) + \"\\n\")\n",
    "out_v.close()\n",
    "out_m.close()"
   ]
  },
  {
   "cell_type": "code",
   "execution_count": null,
   "id": "faf3ed02",
   "metadata": {},
   "outputs": [],
   "source": [
    "#Embedding Projector: http://projector.tensorflow.org/\n",
    "#Picture credits: https://www.tensorflow.org/tensorboard/images/embedding_projector.png?raw=1"
   ]
  },
  {
   "cell_type": "code",
   "execution_count": null,
   "id": "c28be78c",
   "metadata": {},
   "outputs": [],
   "source": []
  }
 ],
 "metadata": {
  "kernelspec": {
   "display_name": "Python 3 (ipykernel)",
   "language": "python",
   "name": "python3"
  },
  "language_info": {
   "codemirror_mode": {
    "name": "ipython",
    "version": 3
   },
   "file_extension": ".py",
   "mimetype": "text/x-python",
   "name": "python",
   "nbconvert_exporter": "python",
   "pygments_lexer": "ipython3",
   "version": "3.9.12"
  }
 },
 "nbformat": 4,
 "nbformat_minor": 5
}
