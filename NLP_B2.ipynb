{
 "cells": [
  {
   "attachments": {
    "1_usRL7lOmUjCmgQSUyc5xBg.png": {
     "image/png": "[encoded data removed]"
    }
   },
   "cell_type": "markdown",
   "id": "1b249159",
   "metadata": {},
   "source": [
    "## Distributional Semantics\n",
    "\n",
    "### Occurrence Matrix:\n",
    "### Occurrence is the one which creates a matrix which has context on one axis (document, sentence, tweet, post) and terms (unique word with stop word removal i.e. Vocabulary ) on the other axis.\n",
    "### Now the value in the matrix could be 0/1 based on the existence of the term in that context/ document. Or it could be frequency of the term in that context. Or it could be more sophisticated tf-idf value of the that term in that context.\n",
    "### Consider four documents each of which is a paragraph taken from a movie. Assume that your vocabulary has only the following words: fear, beer, fun, magic, wizard.\n",
    "\n",
    "### The table below summarizes the term-document matrix, each entry representing the frequency of a term used in a movie:\n",
    "### This is the term frequency matrix. Each cell represent the freq of occurrence of the term in the context\n",
    "\n",
    "![1_usRL7lOmUjCmgQSUyc5xBg.png](attachment:1_usRL7lOmUjCmgQSUyc5xBg.png)\n",
    "\n",
    "### Application of Occurrence Matrix\n",
    "### Now if you see one document (which could be tweet) can be represented as a vector of features equal to number of terms.\n",
    "### e.g. Vector(‘The Prestige’) = 8*’fear’ + 0*’beer’ + 5*’fun’ + 25*’magic’+8*wizard\n",
    "\n",
    "\n",
    "\n"
   ]
  },
  {
   "cell_type": "markdown",
   "id": "bac45229",
   "metadata": {},
   "source": [
    "### Co-occurrence Matrix\n",
    "### Unlike the Occurrence matrix which is a rectangular matrix, the co-occurrence matrix is a square matrix where it depicts the co-occurrence of two terms in a context. Thus, the co-occurrence matrix is also sometimes called the term-term matrix. It’s a square matrix as the it’s a matrix between each term and another term.\n",
    "### Typically there are two approaches which are followed\n",
    "### 1. term-context matrix e.g. Each sentence is represented as a context (there can be other definitions as well). If two terms occur in the same context, they are said to have occurred in the same occurrence context.\n",
    "### 2. k-skip-n-gram approach e.g. A sliding window will include the (k+n) words. This window will serve as the context now. Terms that co-occur within this context are said to have co-occurred.\n",
    "\n",
    "### Dis-advantage of term-context matrix is that it will not consider the words which are though close to each other but are in different sentences\n",
    "### Let’s understand by an example and take following two sentences\n",
    "### There is a bird sitting on a wall. The cat is sitting on the fence.\n",
    "\n",
    "\n",
    "### Let’s now look at the k-skip-n-gram matrix and say k=3 and n=2\n",
    "\n",
    "### 3-skip-2-gram matrix. The co-occurrence will become something like in image below. This will form a sliding window of size 3+2=5 and try to find 2 grams which are no more than 4 words (skip) away.\n",
    "\n",
    "### term-context co-occurrence matrix\n",
    "\n",
    "\n",
    "\n"
   ]
  },
  {
   "attachments": {
    "images.png": {
     "image/png": "[encoded data removed]"
    }
   },
   "cell_type": "markdown",
   "id": "0bcdba47",
   "metadata": {},
   "source": [
    "![images.png](attachment:images.png)"
   ]
  },
  {
   "cell_type": "code",
   "execution_count": 4,
   "id": "2de02692",
   "metadata": {},
   "outputs": [
    {
     "data": {
      "text/html": [
       "<div>\n",
       "<style scoped>\n",
       "    .dataframe tbody tr th:only-of-type {\n",
       "        vertical-align: middle;\n",
       "    }\n",
       "\n",
       "    .dataframe tbody tr th {\n",
       "        vertical-align: top;\n",
       "    }\n",
       "\n",
       "    .dataframe thead th {\n",
       "        text-align: right;\n",
       "    }\n",
       "</style>\n",
       "<table border=\"1\" class=\"dataframe\">\n",
       "  <thead>\n",
       "    <tr style=\"text-align: right;\">\n",
       "      <th></th>\n",
       "      <th>city</th>\n",
       "      <th>province</th>\n",
       "      <th>position</th>\n",
       "    </tr>\n",
       "  </thead>\n",
       "  <tbody>\n",
       "    <tr>\n",
       "      <th>0</th>\n",
       "      <td>Massena</td>\n",
       "      <td>NY</td>\n",
       "      <td>jr</td>\n",
       "    </tr>\n",
       "    <tr>\n",
       "      <th>1</th>\n",
       "      <td>Maysville</td>\n",
       "      <td>KY</td>\n",
       "      <td>pm</td>\n",
       "    </tr>\n",
       "  </tbody>\n",
       "</table>\n",
       "</div>"
      ],
      "text/plain": [
       "        city province position\n",
       "0    Massena       NY       jr\n",
       "1  Maysville       KY       pm"
      ]
     },
     "execution_count": 4,
     "metadata": {},
     "output_type": "execute_result"
    }
   ],
   "source": [
    "# libraries we'll need\n",
    "import pandas as pd # dataframes\n",
    "from io import StringIO # string to data frame\n",
    "import seaborn as sns # plotting\n",
    "# read in our data & convert to a data frame\n",
    "data_tsv = StringIO(\"\"\"city    province    position\n",
    "0   Massena     NY  jr\n",
    "1   Maysville   KY  pm\n",
    "2   Massena     NY  m\n",
    "3   Athens      OH  jr\n",
    "4   Hamilton    OH  sr\n",
    "5   Englewood   OH  jr\n",
    "6   Saluda      SC  sr\n",
    "7   Batesburg   SC  pm\n",
    "8   Paragould   AR  m\"\"\")\n",
    "\n",
    "my_data_frame = pd.read_csv(data_tsv, delimiter=r\"\\s+\")\n",
    "my_data_frame.head(2)"
   ]
  },
  {
   "cell_type": "code",
   "execution_count": 5,
   "id": "921c9146",
   "metadata": {},
   "outputs": [
    {
     "data": {
      "text/html": [
       "<div>\n",
       "<style scoped>\n",
       "    .dataframe tbody tr th:only-of-type {\n",
       "        vertical-align: middle;\n",
       "    }\n",
       "\n",
       "    .dataframe tbody tr th {\n",
       "        vertical-align: top;\n",
       "    }\n",
       "\n",
       "    .dataframe thead th {\n",
       "        text-align: right;\n",
       "    }\n",
       "</style>\n",
       "<table border=\"1\" class=\"dataframe\">\n",
       "  <thead>\n",
       "    <tr style=\"text-align: right;\">\n",
       "      <th>position</th>\n",
       "      <th>jr</th>\n",
       "      <th>m</th>\n",
       "      <th>pm</th>\n",
       "      <th>sr</th>\n",
       "    </tr>\n",
       "    <tr>\n",
       "      <th>province</th>\n",
       "      <th></th>\n",
       "      <th></th>\n",
       "      <th></th>\n",
       "      <th></th>\n",
       "    </tr>\n",
       "  </thead>\n",
       "  <tbody>\n",
       "    <tr>\n",
       "      <th>AR</th>\n",
       "      <td>0</td>\n",
       "      <td>1</td>\n",
       "      <td>0</td>\n",
       "      <td>0</td>\n",
       "    </tr>\n",
       "    <tr>\n",
       "      <th>KY</th>\n",
       "      <td>0</td>\n",
       "      <td>0</td>\n",
       "      <td>1</td>\n",
       "      <td>0</td>\n",
       "    </tr>\n",
       "    <tr>\n",
       "      <th>NY</th>\n",
       "      <td>1</td>\n",
       "      <td>1</td>\n",
       "      <td>0</td>\n",
       "      <td>0</td>\n",
       "    </tr>\n",
       "    <tr>\n",
       "      <th>OH</th>\n",
       "      <td>2</td>\n",
       "      <td>0</td>\n",
       "      <td>0</td>\n",
       "      <td>1</td>\n",
       "    </tr>\n",
       "    <tr>\n",
       "      <th>SC</th>\n",
       "      <td>0</td>\n",
       "      <td>0</td>\n",
       "      <td>1</td>\n",
       "      <td>1</td>\n",
       "    </tr>\n",
       "  </tbody>\n",
       "</table>\n",
       "</div>"
      ],
      "text/plain": [
       "position  jr  m  pm  sr\n",
       "province               \n",
       "AR         0  1   0   0\n",
       "KY         0  0   1   0\n",
       "NY         1  1   0   0\n",
       "OH         2  0   0   1\n",
       "SC         0  0   1   1"
      ]
     },
     "execution_count": 5,
     "metadata": {},
     "output_type": "execute_result"
    }
   ],
   "source": [
    "# conver to co-occurance matrix\n",
    "co_mat = pd.crosstab(my_data_frame.province, my_data_frame.position)\n",
    "co_mat"
   ]
  },
  {
   "cell_type": "code",
   "execution_count": 6,
   "id": "ffacb113",
   "metadata": {},
   "outputs": [
    {
     "data": {
      "text/plain": [
       "<matplotlib.axes._subplots.AxesSubplot at 0x18e4b356ca0>"
      ]
     },
     "execution_count": 6,
     "metadata": {},
     "output_type": "execute_result"
    },
    {
     "data": {
      "image/png": "[encoded data removed]",
      "text/plain": [
       "<Figure size 432x288 with 2 Axes>"
      ]
     },
     "metadata": {
      "needs_background": "light"
     },
     "output_type": "display_data"
    }
   ],
   "source": [
    "# plot heat map of co-occuance matrix\n",
    "sns.heatmap(co_mat)"
   ]
  },
  {
   "cell_type": "code",
   "execution_count": 17,
   "id": "5980c783",
   "metadata": {},
   "outputs": [],
   "source": [
    "#Word2Vec\n",
    "#https://www.tensorflow.org/tutorials/text/word2vec\n",
    "#https://www.kaggle.com/code/vikas15/word-embeddings\n",
    "#https://www.kaggle.com/code/bulentsiyah/nlp-basics-nltk-skipgram-cbow-reg-exp-stemmer\n",
    "#https://www.kaggle.com/code/saxinou/word2vec-and-glove\n"
   ]
  },
  {
   "cell_type": "code",
   "execution_count": 18,
   "id": "be2d98f7",
   "metadata": {},
   "outputs": [
    {
     "name": "stdout",
     "output_type": "stream",
     "text": [
      "Shape (957, 3)\n"
     ]
    },
    {
     "data": {
      "text/html": [
       "<div>\n",
       "<style scoped>\n",
       "    .dataframe tbody tr th:only-of-type {\n",
       "        vertical-align: middle;\n",
       "    }\n",
       "\n",
       "    .dataframe tbody tr th {\n",
       "        vertical-align: top;\n",
       "    }\n",
       "\n",
       "    .dataframe thead th {\n",
       "        text-align: right;\n",
       "    }\n",
       "</style>\n",
       "<table border=\"1\" class=\"dataframe\">\n",
       "  <thead>\n",
       "    <tr style=\"text-align: right;\">\n",
       "      <th></th>\n",
       "      <th>S. No.</th>\n",
       "      <th>Message_body</th>\n",
       "      <th>Label</th>\n",
       "    </tr>\n",
       "  </thead>\n",
       "  <tbody>\n",
       "    <tr>\n",
       "      <th>955</th>\n",
       "      <td>956</td>\n",
       "      <td>Wat time ü finish?</td>\n",
       "      <td>Non-Spam</td>\n",
       "    </tr>\n",
       "    <tr>\n",
       "      <th>956</th>\n",
       "      <td>957</td>\n",
       "      <td>Just glad to be talking to you.</td>\n",
       "      <td>Non-Spam</td>\n",
       "    </tr>\n",
       "  </tbody>\n",
       "</table>\n",
       "</div>"
      ],
      "text/plain": [
       "     S. No.                     Message_body     Label\n",
       "955     956               Wat time ü finish?  Non-Spam\n",
       "956     957  Just glad to be talking to you.  Non-Spam"
      ]
     },
     "execution_count": 18,
     "metadata": {},
     "output_type": "execute_result"
    }
   ],
   "source": [
    "#Loading data\n",
    "import pandas as pd \n",
    "from nltk.tokenize import sent_tokenize, word_tokenize\n",
    "import gensim\n",
    "from gensim.models import Word2Vec\n",
    "import os\n",
    "import warnings\n",
    "warnings.filterwarnings('ignore')\n",
    "\n",
    "train = pd.read_csv('SMS_train.csv',encoding='latin1')\n",
    "print(\"Shape\",train.shape)\n",
    "train.tail(2)"
   ]
  },
  {
   "cell_type": "code",
   "execution_count": 16,
   "id": "fb1294cc",
   "metadata": {},
   "outputs": [
    {
     "data": {
      "text/html": [
       "<div>\n",
       "<style scoped>\n",
       "    .dataframe tbody tr th:only-of-type {\n",
       "        vertical-align: middle;\n",
       "    }\n",
       "\n",
       "    .dataframe tbody tr th {\n",
       "        vertical-align: top;\n",
       "    }\n",
       "\n",
       "    .dataframe thead th {\n",
       "        text-align: right;\n",
       "    }\n",
       "</style>\n",
       "<table border=\"1\" class=\"dataframe\">\n",
       "  <thead>\n",
       "    <tr style=\"text-align: right;\">\n",
       "      <th></th>\n",
       "      <th>Message_body</th>\n",
       "      <th>Label_01</th>\n",
       "    </tr>\n",
       "  </thead>\n",
       "  <tbody>\n",
       "    <tr>\n",
       "      <th>955</th>\n",
       "      <td>Wat time ü finish?</td>\n",
       "      <td>0.0</td>\n",
       "    </tr>\n",
       "    <tr>\n",
       "      <th>956</th>\n",
       "      <td>Just glad to be talking to you.</td>\n",
       "      <td>0.0</td>\n",
       "    </tr>\n",
       "  </tbody>\n",
       "</table>\n",
       "</div>"
      ],
      "text/plain": [
       "                        Message_body  Label_01\n",
       "955               Wat time ü finish?       0.0\n",
       "956  Just glad to be talking to you.       0.0"
      ]
     },
     "execution_count": 16,
     "metadata": {},
     "output_type": "execute_result"
    }
   ],
   "source": [
    "#train[\"Label_01\"] = train[\"Label\"].astype(int)\n",
    "train.loc[train['Label'] == 'Non-Spam', 'Label_01'] = 0\n",
    "train.loc[train['Label'] == 'Spam', 'Label_01'] = 1\n",
    "train = train[['Message_body','Label_01']]\n",
    "train.tail(2)"
   ]
  },
  {
   "cell_type": "code",
   "execution_count": null,
   "id": "dbced203",
   "metadata": {},
   "outputs": [],
   "source": []
  },
  {
   "cell_type": "code",
   "execution_count": null,
   "id": "edf514df",
   "metadata": {},
   "outputs": [],
   "source": []
  },
  {
   "cell_type": "code",
   "execution_count": null,
   "id": "d7a6ef53",
   "metadata": {},
   "outputs": [],
   "source": []
  }
 ],
 "metadata": {
  "kernelspec": {
   "display_name": "Python 3 (ipykernel)",
   "language": "python",
   "name": "python3"
  },
  "language_info": {
   "codemirror_mode": {
    "name": "ipython",
    "version": 3
   },
   "file_extension": ".py",
   "mimetype": "text/x-python",
   "name": "python",
   "nbconvert_exporter": "python",
   "pygments_lexer": "ipython3",
   "version": "3.9.12"
  }
 },
 "nbformat": 4,
 "nbformat_minor": 5
}
