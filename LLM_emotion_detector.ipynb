{
 "cells": [
  {
   "cell_type": "markdown",
   "id": "d755f053-812b-47c0-888f-6fce7bab7567",
   "metadata": {},
   "source": [
    "## Exploring datasets features"
   ]
  },
  {
   "cell_type": "code",
   "execution_count": 39,
   "id": "f731cb47-d793-41e6-a5bc-a3b683ad1e05",
   "metadata": {},
   "outputs": [
    {
     "data": {
      "text/plain": [
       "DatasetDict({\n",
       "    train: Dataset({\n",
       "        features: ['text', 'label'],\n",
       "        num_rows: 16000\n",
       "    })\n",
       "    validation: Dataset({\n",
       "        features: ['text', 'label'],\n",
       "        num_rows: 2000\n",
       "    })\n",
       "    test: Dataset({\n",
       "        features: ['text', 'label'],\n",
       "        num_rows: 2000\n",
       "    })\n",
       "})"
      ]
     },
     "execution_count": 39,
     "metadata": {},
     "output_type": "execute_result"
    }
   ],
   "source": [
    "# Load Dataset\n",
    "# Load the \"emotion\" dataset\n",
    "emotions = load_dataset(\"emotion\")\n",
    "\n",
    "# Get the number of examples in the dataset\n",
    "#num_examples = len(emotions[\"train\"])\n",
    "\n",
    "# Split the dataset into training and testing sets\n",
    "# Set test_size=0.9 to keep only 10% of the data\n",
    "#train_indices, test_indices = train_test_split(range(num_examples), test_size=0.9, shuffle=True, random_state=42)\n",
    "\n",
    "# Select the 10% of the data for training\n",
    "#emotions = emotions[\"train\"].select(train_indices)\n",
    "\n",
    "# Display the selected subset\n",
    "emotions"
   ]
  },
  {
   "cell_type": "code",
   "execution_count": 40,
   "id": "3a77a1d7-4d4c-41c9-9a43-33e8b7bca81f",
   "metadata": {},
   "outputs": [
    {
     "data": {
      "text/plain": [
       "{'text': 'i didnt feel humiliated', 'label': 0}"
      ]
     },
     "execution_count": 40,
     "metadata": {},
     "output_type": "execute_result"
    }
   ],
   "source": [
    "train_ds = emotions[\"train\"]\n",
    "train_ds[0]"
   ]
  },
  {
   "cell_type": "code",
   "execution_count": 41,
   "id": "1032d188-745a-451b-8f81-b01441b0a60a",
   "metadata": {},
   "outputs": [
    {
     "data": {
      "text/plain": [
       "{'text': Value(dtype='string', id=None),\n",
       " 'label': ClassLabel(names=['sadness', 'joy', 'love', 'anger', 'fear', 'surprise'], id=None)}"
      ]
     },
     "execution_count": 41,
     "metadata": {},
     "output_type": "execute_result"
    }
   ],
   "source": [
    "# Printing features\n",
    "train_ds.features"
   ]
  },
  {
   "cell_type": "markdown",
   "id": "9bfaabb8-14e7-4ca8-9403-a93a73568092",
   "metadata": {},
   "source": [
    "## From Datasets to dataframe"
   ]
  },
  {
   "cell_type": "code",
   "execution_count": 42,
   "id": "a096fa09-8bf0-4073-b3e6-c2770b933ed4",
   "metadata": {},
   "outputs": [
    {
     "data": {
      "text/html": [
       "<div>\n",
       "<style scoped>\n",
       "    .dataframe tbody tr th:only-of-type {\n",
       "        vertical-align: middle;\n",
       "    }\n",
       "\n",
       "    .dataframe tbody tr th {\n",
       "        vertical-align: top;\n",
       "    }\n",
       "\n",
       "    .dataframe thead th {\n",
       "        text-align: right;\n",
       "    }\n",
       "</style>\n",
       "<table border=\"1\" class=\"dataframe\">\n",
       "  <thead>\n",
       "    <tr style=\"text-align: right;\">\n",
       "      <th></th>\n",
       "      <th>text</th>\n",
       "      <th>label</th>\n",
       "    </tr>\n",
       "  </thead>\n",
       "  <tbody>\n",
       "    <tr>\n",
       "      <th>0</th>\n",
       "      <td>i didnt feel humiliated</td>\n",
       "      <td>0</td>\n",
       "    </tr>\n",
       "    <tr>\n",
       "      <th>1</th>\n",
       "      <td>i can go from feeling so hopeless to so damned...</td>\n",
       "      <td>0</td>\n",
       "    </tr>\n",
       "    <tr>\n",
       "      <th>2</th>\n",
       "      <td>im grabbing a minute to post i feel greedy wrong</td>\n",
       "      <td>3</td>\n",
       "    </tr>\n",
       "    <tr>\n",
       "      <th>3</th>\n",
       "      <td>i am ever feeling nostalgic about the fireplac...</td>\n",
       "      <td>2</td>\n",
       "    </tr>\n",
       "    <tr>\n",
       "      <th>4</th>\n",
       "      <td>i am feeling grouchy</td>\n",
       "      <td>3</td>\n",
       "    </tr>\n",
       "  </tbody>\n",
       "</table>\n",
       "</div>"
      ],
      "text/plain": [
       "                                                text  label\n",
       "0                            i didnt feel humiliated      0\n",
       "1  i can go from feeling so hopeless to so damned...      0\n",
       "2   im grabbing a minute to post i feel greedy wrong      3\n",
       "3  i am ever feeling nostalgic about the fireplac...      2\n",
       "4                               i am feeling grouchy      3"
      ]
     },
     "execution_count": 42,
     "metadata": {},
     "output_type": "execute_result"
    }
   ],
   "source": [
    "# From Datasets to dataframe\n",
    "import pandas as pd\n",
    "emotions.set_format(type=\"pandas\")\n",
    "df = emotions[\"train\"][:]\n",
    "df.head()"
   ]
  },
  {
   "cell_type": "code",
   "execution_count": 43,
   "id": "e1d5c4b4-c3ce-4baf-abc3-e76e8fdf7599",
   "metadata": {},
   "outputs": [
    {
     "data": {
      "text/html": [
       "<div>\n",
       "<style scoped>\n",
       "    .dataframe tbody tr th:only-of-type {\n",
       "        vertical-align: middle;\n",
       "    }\n",
       "\n",
       "    .dataframe tbody tr th {\n",
       "        vertical-align: top;\n",
       "    }\n",
       "\n",
       "    .dataframe thead th {\n",
       "        text-align: right;\n",
       "    }\n",
       "</style>\n",
       "<table border=\"1\" class=\"dataframe\">\n",
       "  <thead>\n",
       "    <tr style=\"text-align: right;\">\n",
       "      <th></th>\n",
       "      <th>text</th>\n",
       "      <th>label</th>\n",
       "      <th>label_name</th>\n",
       "    </tr>\n",
       "  </thead>\n",
       "  <tbody>\n",
       "    <tr>\n",
       "      <th>0</th>\n",
       "      <td>i didnt feel humiliated</td>\n",
       "      <td>0</td>\n",
       "      <td>sadness</td>\n",
       "    </tr>\n",
       "    <tr>\n",
       "      <th>1</th>\n",
       "      <td>i can go from feeling so hopeless to so damned...</td>\n",
       "      <td>0</td>\n",
       "      <td>sadness</td>\n",
       "    </tr>\n",
       "    <tr>\n",
       "      <th>2</th>\n",
       "      <td>im grabbing a minute to post i feel greedy wrong</td>\n",
       "      <td>3</td>\n",
       "      <td>anger</td>\n",
       "    </tr>\n",
       "    <tr>\n",
       "      <th>3</th>\n",
       "      <td>i am ever feeling nostalgic about the fireplac...</td>\n",
       "      <td>2</td>\n",
       "      <td>love</td>\n",
       "    </tr>\n",
       "    <tr>\n",
       "      <th>4</th>\n",
       "      <td>i am feeling grouchy</td>\n",
       "      <td>3</td>\n",
       "      <td>anger</td>\n",
       "    </tr>\n",
       "  </tbody>\n",
       "</table>\n",
       "</div>"
      ],
      "text/plain": [
       "                                                text  label label_name\n",
       "0                            i didnt feel humiliated      0    sadness\n",
       "1  i can go from feeling so hopeless to so damned...      0    sadness\n",
       "2   im grabbing a minute to post i feel greedy wrong      3      anger\n",
       "3  i am ever feeling nostalgic about the fireplac...      2       love\n",
       "4                               i am feeling grouchy      3      anger"
      ]
     },
     "execution_count": 43,
     "metadata": {},
     "output_type": "execute_result"
    }
   ],
   "source": [
    "# Convert Dataset to dataframe\n",
    "def label_int2str(row):\n",
    "    return emotions[\"train\"].features[\"label\"].int2str(row)\n",
    "\n",
    "df[\"label_name\"] = df[\"label\"].apply(label_int2str)\n",
    "df.head()"
   ]
  },
  {
   "cell_type": "markdown",
   "id": "7fbe8cc9-22db-436a-b950-03c9dc31cce9",
   "metadata": {},
   "source": [
    "## Looking at the Class Distribution"
   ]
  },
  {
   "cell_type": "code",
   "execution_count": 44,
   "id": "b67e4b35-8331-427b-a2f0-931792182923",
   "metadata": {},
   "outputs": [
    {
     "data": {
      "image/png": "[encoded data removed]",
      "text/plain": [
       "<Figure size 640x480 with 1 Axes>"
      ]
     },
     "metadata": {},
     "output_type": "display_data"
    }
   ],
   "source": [
    "import matplotlib.pyplot as plt\n",
    "df[\"label_name\"].value_counts(ascending=True).plot.barh()\n",
    "plt.title(\"Frequency of Classes\")\n",
    "plt.show()"
   ]
  },
  {
   "cell_type": "markdown",
   "id": "3953ca31-6831-41b7-8954-b3a52116958b",
   "metadata": {},
   "source": [
    "## How long are our Tweets?"
   ]
  },
  {
   "cell_type": "code",
   "execution_count": 45,
   "id": "e65c9f70-dc78-46f5-ba51-0c48aea5a96f",
   "metadata": {},
   "outputs": [
    {
     "data": {
      "image/png": "[encoded data removed]",
      "text/plain": [
       "<Figure size 640x480 with 1 Axes>"
      ]
     },
     "metadata": {},
     "output_type": "display_data"
    }
   ],
   "source": [
    "df[\"Words Per Tweet\"] = df[\"text\"].str.split().apply(len)\n",
    "df.boxplot(\"Words Per Tweet\", by=\"label_name\", grid=False, \n",
    "           showfliers=False)\n",
    "plt.suptitle(\"\")\n",
    "plt.xlabel(\"\")\n",
    "plt.show()"
   ]
  },
  {
   "cell_type": "markdown",
   "id": "b32c53d6-5327-44ab-a230-74f834273094",
   "metadata": {},
   "source": [
    "## From Text to Tokens - Sub Word Tokenization"
   ]
  },
  {
   "cell_type": "code",
   "execution_count": 46,
   "id": "7cbfb56b-576d-4e24-a038-e725e45adae5",
   "metadata": {},
   "outputs": [],
   "source": [
    "emotions.reset_format()"
   ]
  },
  {
   "cell_type": "code",
   "execution_count": 47,
   "id": "b4aa63c9-43b5-4796-af06-63f179aab2de",
   "metadata": {},
   "outputs": [
    {
     "data": {
      "text/plain": [
       "DatasetDict({\n",
       "    train: Dataset({\n",
       "        features: ['text', 'label'],\n",
       "        num_rows: 16000\n",
       "    })\n",
       "    validation: Dataset({\n",
       "        features: ['text', 'label'],\n",
       "        num_rows: 2000\n",
       "    })\n",
       "    test: Dataset({\n",
       "        features: ['text', 'label'],\n",
       "        num_rows: 2000\n",
       "    })\n",
       "})"
      ]
     },
     "execution_count": 47,
     "metadata": {},
     "output_type": "execute_result"
    }
   ],
   "source": [
    "emotions"
   ]
  },
  {
   "cell_type": "code",
   "execution_count": 48,
   "id": "157c1bd4-8f93-45d3-a42d-21c7b6f20cfb",
   "metadata": {},
   "outputs": [
    {
     "data": {
      "text/html": [
       "<div>\n",
       "<style scoped>\n",
       "    .dataframe tbody tr th:only-of-type {\n",
       "        vertical-align: middle;\n",
       "    }\n",
       "\n",
       "    .dataframe tbody tr th {\n",
       "        vertical-align: top;\n",
       "    }\n",
       "\n",
       "    .dataframe thead th {\n",
       "        text-align: right;\n",
       "    }\n",
       "</style>\n",
       "<table border=\"1\" class=\"dataframe\">\n",
       "  <thead>\n",
       "    <tr style=\"text-align: right;\">\n",
       "      <th></th>\n",
       "      <th>text</th>\n",
       "      <th>label</th>\n",
       "      <th>label_name</th>\n",
       "      <th>Words Per Tweet</th>\n",
       "    </tr>\n",
       "  </thead>\n",
       "  <tbody>\n",
       "    <tr>\n",
       "      <th>0</th>\n",
       "      <td>i didnt feel humiliated</td>\n",
       "      <td>0</td>\n",
       "      <td>sadness</td>\n",
       "      <td>4</td>\n",
       "    </tr>\n",
       "    <tr>\n",
       "      <th>1</th>\n",
       "      <td>i can go from feeling so hopeless to so damned...</td>\n",
       "      <td>0</td>\n",
       "      <td>sadness</td>\n",
       "      <td>21</td>\n",
       "    </tr>\n",
       "  </tbody>\n",
       "</table>\n",
       "</div>"
      ],
      "text/plain": [
       "                                                text  label label_name  \\\n",
       "0                            i didnt feel humiliated      0    sadness   \n",
       "1  i can go from feeling so hopeless to so damned...      0    sadness   \n",
       "\n",
       "   Words Per Tweet  \n",
       "0                4  \n",
       "1               21  "
      ]
     },
     "execution_count": 48,
     "metadata": {},
     "output_type": "execute_result"
    }
   ],
   "source": [
    "df.head(2)"
   ]
  },
  {
   "cell_type": "code",
   "execution_count": 49,
   "id": "b8cdc52a-187a-4588-bf41-4bdde668d184",
   "metadata": {},
   "outputs": [],
   "source": [
    "from transformers import AutoTokenizer\n",
    "model_ckpt = \"distilbert-base-uncased\"\n",
    "tokenizer = AutoTokenizer.from_pretrained(model_ckpt)"
   ]
  },
  {
   "cell_type": "code",
   "execution_count": 50,
   "id": "8d7085f2-de29-4389-acf8-69b6198ddf88",
   "metadata": {},
   "outputs": [
    {
     "name": "stdout",
     "output_type": "stream",
     "text": [
      "{'input_ids': [101, 19204, 6026, 3793, 2003, 1037, 4563, 4708, 1997, 17953, 2361, 1012, 102], 'attention_mask': [1, 1, 1, 1, 1, 1, 1, 1, 1, 1, 1, 1, 1]}\n"
     ]
    }
   ],
   "source": [
    "# Checking with sample\n",
    "text = \"Tokenizing text is a core task of NLP.\"\n",
    "encoded_text = tokenizer(text)\n",
    "print(encoded_text)"
   ]
  },
  {
   "cell_type": "code",
   "execution_count": 51,
   "id": "aa50c629-b27b-437f-bff4-41045c7fd68e",
   "metadata": {},
   "outputs": [
    {
     "name": "stdout",
     "output_type": "stream",
     "text": [
      "['[CLS]', 'token', '##izing', 'text', 'is', 'a', 'core', 'task', 'of', 'nl', '##p', '.', '[SEP]']\n"
     ]
    }
   ],
   "source": [
    "# Now that we have the input_ids, we can convert them back into tokens by using the tokenizer’s convert_ids_to_tokens() method\n",
    "tokens = tokenizer.convert_ids_to_tokens(encoded_text.input_ids)\n",
    "print(tokens)"
   ]
  },
  {
   "cell_type": "code",
   "execution_count": 52,
   "id": "d73094bf-c024-47df-aadb-2b065b03f8bc",
   "metadata": {},
   "outputs": [
    {
     "name": "stdout",
     "output_type": "stream",
     "text": [
      "[CLS] tokenizing text is a core task of nlp. [SEP]\n"
     ]
    }
   ],
   "source": [
    "# The AutoTokenizer class has a convert_tokens_to_string() method for doing just that, so let’s apply it to our tokens\n",
    "print(tokenizer.convert_tokens_to_string(tokens))"
   ]
  },
  {
   "cell_type": "code",
   "execution_count": 53,
   "id": "eaad09ab-0fcd-40eb-b53f-28febe562f49",
   "metadata": {},
   "outputs": [
    {
     "data": {
      "text/plain": [
       "512"
      ]
     },
     "execution_count": 53,
     "metadata": {},
     "output_type": "execute_result"
    }
   ],
   "source": [
    "tokenizer.model_max_length"
   ]
  },
  {
   "cell_type": "code",
   "execution_count": 54,
   "id": "f32b670f-7ff3-4bd5-8bf8-86d411ecefe0",
   "metadata": {},
   "outputs": [
    {
     "data": {
      "text/plain": [
       "DistilBertTokenizerFast(name_or_path='distilbert-base-uncased', vocab_size=30522, model_max_length=512, is_fast=True, padding_side='right', truncation_side='right', special_tokens={'unk_token': '[UNK]', 'sep_token': '[SEP]', 'pad_token': '[PAD]', 'cls_token': '[CLS]', 'mask_token': '[MASK]'}, clean_up_tokenization_spaces=True)"
      ]
     },
     "execution_count": 54,
     "metadata": {},
     "output_type": "execute_result"
    }
   ],
   "source": [
    "tokenizer"
   ]
  },
  {
   "cell_type": "markdown",
   "id": "af768984-4bfa-4c55-a083-01c12d17ed4b",
   "metadata": {},
   "source": [
    "## Tokenizing the whole dataset"
   ]
  },
  {
   "cell_type": "code",
   "execution_count": 55,
   "id": "8e3d079d-f5f5-4805-b84b-8d4b7f7500fe",
   "metadata": {},
   "outputs": [
    {
     "name": "stdout",
     "output_type": "stream",
     "text": [
      "{'input_ids': [[101, 1045, 2134, 2102, 2514, 26608, 102, 0, 0, 0, 0, 0, 0, 0, 0, 0, 0, 0, 0, 0, 0, 0, 0], [101, 1045, 2064, 2175, 2013, 3110, 2061, 20625, 2000, 2061, 9636, 17772, 2074, 2013, 2108, 2105, 2619, 2040, 14977, 1998, 2003, 8300, 102]], 'attention_mask': [[1, 1, 1, 1, 1, 1, 1, 0, 0, 0, 0, 0, 0, 0, 0, 0, 0, 0, 0, 0, 0, 0, 0], [1, 1, 1, 1, 1, 1, 1, 1, 1, 1, 1, 1, 1, 1, 1, 1, 1, 1, 1, 1, 1, 1, 1]]}\n"
     ]
    }
   ],
   "source": [
    "def tokenize(batch):\n",
    "    return tokenizer(batch[\"text\"], padding=True, truncation=True)\n",
    "\n",
    "print(tokenize(emotions[\"train\"][:2]))"
   ]
  },
  {
   "cell_type": "code",
   "execution_count": 56,
   "id": "cb5fb157-78a0-4c3b-8e5e-4ba170b40913",
   "metadata": {},
   "outputs": [
    {
     "data": {
      "text/plain": [
       "DatasetDict({\n",
       "    train: Dataset({\n",
       "        features: ['text', 'label', 'input_ids', 'attention_mask'],\n",
       "        num_rows: 16000\n",
       "    })\n",
       "    validation: Dataset({\n",
       "        features: ['text', 'label', 'input_ids', 'attention_mask'],\n",
       "        num_rows: 2000\n",
       "    })\n",
       "    test: Dataset({\n",
       "        features: ['text', 'label', 'input_ids', 'attention_mask'],\n",
       "        num_rows: 2000\n",
       "    })\n",
       "})"
      ]
     },
     "execution_count": 56,
     "metadata": {},
     "output_type": "execute_result"
    }
   ],
   "source": [
    "emotions_encoded = emotions.map(tokenize, batched=True, batch_size=None)\n",
    "emotions_encoded"
   ]
  },
  {
   "cell_type": "markdown",
   "id": "9d335217-2c49-45ac-8dc7-2c6a0364eef8",
   "metadata": {},
   "source": [
    "# Text Classifier"
   ]
  },
  {
   "cell_type": "markdown",
   "id": "2fa417ff-34d0-493a-9a06-b59ef1da9ba9",
   "metadata": {},
   "source": [
    "## SBERT Embedding"
   ]
  },
  {
   "cell_type": "code",
   "execution_count": 57,
   "id": "11d8a8f7-f4ef-4440-9157-707f0de9faec",
   "metadata": {},
   "outputs": [
    {
     "data": {
      "text/plain": [
       "DatasetDict({\n",
       "    train: Dataset({\n",
       "        features: ['text', 'label'],\n",
       "        num_rows: 16000\n",
       "    })\n",
       "    validation: Dataset({\n",
       "        features: ['text', 'label'],\n",
       "        num_rows: 2000\n",
       "    })\n",
       "    test: Dataset({\n",
       "        features: ['text', 'label'],\n",
       "        num_rows: 2000\n",
       "    })\n",
       "})"
      ]
     },
     "execution_count": 57,
     "metadata": {},
     "output_type": "execute_result"
    }
   ],
   "source": [
    "emotions"
   ]
  },
  {
   "cell_type": "code",
   "execution_count": 58,
   "id": "780abcbb-9ddf-4c3b-b1a7-db7f5d77b7e8",
   "metadata": {},
   "outputs": [],
   "source": [
    "# Convert to Pandas DataFrames\n",
    "df_train = pd.DataFrame(emotions['train'])\n",
    "#df_valid = pd.DataFrame(emotions['validation'])\n",
    "#df_test = pd.DataFrame(emotions['test'])"
   ]
  },
  {
   "cell_type": "code",
   "execution_count": 59,
   "id": "a0110318-6663-480f-83eb-4e3246f35822",
   "metadata": {},
   "outputs": [
    {
     "data": {
      "text/html": [
       "<div>\n",
       "<style scoped>\n",
       "    .dataframe tbody tr th:only-of-type {\n",
       "        vertical-align: middle;\n",
       "    }\n",
       "\n",
       "    .dataframe tbody tr th {\n",
       "        vertical-align: top;\n",
       "    }\n",
       "\n",
       "    .dataframe thead th {\n",
       "        text-align: right;\n",
       "    }\n",
       "</style>\n",
       "<table border=\"1\" class=\"dataframe\">\n",
       "  <thead>\n",
       "    <tr style=\"text-align: right;\">\n",
       "      <th></th>\n",
       "      <th>text</th>\n",
       "      <th>label</th>\n",
       "    </tr>\n",
       "  </thead>\n",
       "  <tbody>\n",
       "    <tr>\n",
       "      <th>10216</th>\n",
       "      <td>i wear this it is one of those rare occasions ...</td>\n",
       "      <td>1</td>\n",
       "    </tr>\n",
       "  </tbody>\n",
       "</table>\n",
       "</div>"
      ],
      "text/plain": [
       "                                                    text  label\n",
       "10216  i wear this it is one of those rare occasions ...      1"
      ]
     },
     "execution_count": 59,
     "metadata": {},
     "output_type": "execute_result"
    }
   ],
   "source": [
    "df_train = df_train.sample(2000)\n",
    "df_train.head(1)"
   ]
  },
  {
   "cell_type": "code",
   "execution_count": 60,
   "id": "cce8ccb6-0dbd-417c-8083-e6f8980e7301",
   "metadata": {},
   "outputs": [],
   "source": [
    "# Text embedding\n",
    "from sentence_transformers import SentenceTransformer\n",
    "# Load a pre-trained SBERT model\n",
    "model_name = 'paraphrase-MiniLM-L6-v2'\n",
    "model = SentenceTransformer(model_name)"
   ]
  },
  {
   "cell_type": "code",
   "execution_count": 61,
   "id": "30272e63-ca24-4ee5-9f35-67affdc4f234",
   "metadata": {},
   "outputs": [],
   "source": [
    "# Function to obtain embeddings\n",
    "def get_embeddings(texts):\n",
    "    embeddings = model.encode(texts)\n",
    "    return embeddings\n",
    "\n",
    "# Apply the function to the \"text\" column in your DataFrame\n",
    "df_train['text_embedding'] = df_train['text'].apply(get_embeddings)"
   ]
  },
  {
   "cell_type": "code",
   "execution_count": 62,
   "id": "ac24591d-8d0b-42ba-ad99-c75390ce2cb1",
   "metadata": {},
   "outputs": [
    {
     "data": {
      "text/html": [
       "<div>\n",
       "<style scoped>\n",
       "    .dataframe tbody tr th:only-of-type {\n",
       "        vertical-align: middle;\n",
       "    }\n",
       "\n",
       "    .dataframe tbody tr th {\n",
       "        vertical-align: top;\n",
       "    }\n",
       "\n",
       "    .dataframe thead th {\n",
       "        text-align: right;\n",
       "    }\n",
       "</style>\n",
       "<table border=\"1\" class=\"dataframe\">\n",
       "  <thead>\n",
       "    <tr style=\"text-align: right;\">\n",
       "      <th></th>\n",
       "      <th>text</th>\n",
       "      <th>label</th>\n",
       "      <th>text_embedding</th>\n",
       "    </tr>\n",
       "  </thead>\n",
       "  <tbody>\n",
       "    <tr>\n",
       "      <th>10216</th>\n",
       "      <td>i wear this it is one of those rare occasions ...</td>\n",
       "      <td>1</td>\n",
       "      <td>[-0.24261029, 0.19535953, 0.20098037, 0.432683...</td>\n",
       "    </tr>\n",
       "    <tr>\n",
       "      <th>11861</th>\n",
       "      <td>i cant help but feel a bi jealous of their pro...</td>\n",
       "      <td>3</td>\n",
       "      <td>[-0.39217776, 0.1713062, 0.05257176, -0.365530...</td>\n",
       "    </tr>\n",
       "  </tbody>\n",
       "</table>\n",
       "</div>"
      ],
      "text/plain": [
       "                                                    text  label  \\\n",
       "10216  i wear this it is one of those rare occasions ...      1   \n",
       "11861  i cant help but feel a bi jealous of their pro...      3   \n",
       "\n",
       "                                          text_embedding  \n",
       "10216  [-0.24261029, 0.19535953, 0.20098037, 0.432683...  \n",
       "11861  [-0.39217776, 0.1713062, 0.05257176, -0.365530...  "
      ]
     },
     "execution_count": 62,
     "metadata": {},
     "output_type": "execute_result"
    }
   ],
   "source": [
    "df_train.head(2)"
   ]
  },
  {
   "cell_type": "code",
   "execution_count": 63,
   "id": "21125ab7-b738-4e6c-83a2-20c69f51a746",
   "metadata": {},
   "outputs": [],
   "source": [
    "# Split the data into features (X) and labels (y)\n",
    "X = list(df_train['text_embedding'])\n",
    "y = df_train['label']"
   ]
  },
  {
   "cell_type": "code",
   "execution_count": 64,
   "id": "3c38401a-51b7-4756-9f7e-0acd852bdf6b",
   "metadata": {},
   "outputs": [],
   "source": [
    "# Split the data into training and testing sets\n",
    "from sklearn.model_selection import train_test_split\n",
    "X_train, X_test, y_train, y_test = train_test_split(X, y, test_size=0.2, random_state=42, stratify=y)"
   ]
  },
  {
   "cell_type": "code",
   "execution_count": 65,
   "id": "04fcad7e-b26d-46e4-96ba-4bdc2bd3ed46",
   "metadata": {},
   "outputs": [
    {
     "data": {
      "text/html": [
       "<style>#sk-container-id-2 {color: black;}#sk-container-id-2 pre{padding: 0;}#sk-container-id-2 div.sk-toggleable {background-color: white;}#sk-container-id-2 label.sk-toggleable__label {cursor: pointer;display: block;width: 100%;margin-bottom: 0;padding: 0.3em;box-sizing: border-box;text-align: center;}#sk-container-id-2 label.sk-toggleable__label-arrow:before {content: \"▸\";float: left;margin-right: 0.25em;color: #696969;}#sk-container-id-2 label.sk-toggleable__label-arrow:hover:before {color: black;}#sk-container-id-2 div.sk-estimator:hover label.sk-toggleable__label-arrow:before {color: black;}#sk-container-id-2 div.sk-toggleable__content {max-height: 0;max-width: 0;overflow: hidden;text-align: left;background-color: #f0f8ff;}#sk-container-id-2 div.sk-toggleable__content pre {margin: 0.2em;color: black;border-radius: 0.25em;background-color: #f0f8ff;}#sk-container-id-2 input.sk-toggleable__control:checked~div.sk-toggleable__content {max-height: 200px;max-width: 100%;overflow: auto;}#sk-container-id-2 input.sk-toggleable__control:checked~label.sk-toggleable__label-arrow:before {content: \"▾\";}#sk-container-id-2 div.sk-estimator input.sk-toggleable__control:checked~label.sk-toggleable__label {background-color: #d4ebff;}#sk-container-id-2 div.sk-label input.sk-toggleable__control:checked~label.sk-toggleable__label {background-color: #d4ebff;}#sk-container-id-2 input.sk-hidden--visually {border: 0;clip: rect(1px 1px 1px 1px);clip: rect(1px, 1px, 1px, 1px);height: 1px;margin: -1px;overflow: hidden;padding: 0;position: absolute;width: 1px;}#sk-container-id-2 div.sk-estimator {font-family: monospace;background-color: #f0f8ff;border: 1px dotted black;border-radius: 0.25em;box-sizing: border-box;margin-bottom: 0.5em;}#sk-container-id-2 div.sk-estimator:hover {background-color: #d4ebff;}#sk-container-id-2 div.sk-parallel-item::after {content: \"\";width: 100%;border-bottom: 1px solid gray;flex-grow: 1;}#sk-container-id-2 div.sk-label:hover label.sk-toggleable__label {background-color: #d4ebff;}#sk-container-id-2 div.sk-serial::before {content: \"\";position: absolute;border-left: 1px solid gray;box-sizing: border-box;top: 0;bottom: 0;left: 50%;z-index: 0;}#sk-container-id-2 div.sk-serial {display: flex;flex-direction: column;align-items: center;background-color: white;padding-right: 0.2em;padding-left: 0.2em;position: relative;}#sk-container-id-2 div.sk-item {position: relative;z-index: 1;}#sk-container-id-2 div.sk-parallel {display: flex;align-items: stretch;justify-content: center;background-color: white;position: relative;}#sk-container-id-2 div.sk-item::before, #sk-container-id-2 div.sk-parallel-item::before {content: \"\";position: absolute;border-left: 1px solid gray;box-sizing: border-box;top: 0;bottom: 0;left: 50%;z-index: -1;}#sk-container-id-2 div.sk-parallel-item {display: flex;flex-direction: column;z-index: 1;position: relative;background-color: white;}#sk-container-id-2 div.sk-parallel-item:first-child::after {align-self: flex-end;width: 50%;}#sk-container-id-2 div.sk-parallel-item:last-child::after {align-self: flex-start;width: 50%;}#sk-container-id-2 div.sk-parallel-item:only-child::after {width: 0;}#sk-container-id-2 div.sk-dashed-wrapped {border: 1px dashed gray;margin: 0 0.4em 0.5em 0.4em;box-sizing: border-box;padding-bottom: 0.4em;background-color: white;}#sk-container-id-2 div.sk-label label {font-family: monospace;font-weight: bold;display: inline-block;line-height: 1.2em;}#sk-container-id-2 div.sk-label-container {text-align: center;}#sk-container-id-2 div.sk-container {/* jupyter's `normalize.less` sets `[hidden] { display: none; }` but bootstrap.min.css set `[hidden] { display: none !important; }` so we also need the `!important` here to be able to override the default hidden behavior on the sphinx rendered scikit-learn.org. See: https://github.com/scikit-learn/scikit-learn/issues/21755 */display: inline-block !important;position: relative;}#sk-container-id-2 div.sk-text-repr-fallback {display: none;}</style><div id=\"sk-container-id-2\" class=\"sk-top-container\"><div class=\"sk-text-repr-fallback\"><pre>LogisticRegression(max_iter=3000, multi_class=&#x27;ovr&#x27;)</pre><b>In a Jupyter environment, please rerun this cell to show the HTML representation or trust the notebook. <br />On GitHub, the HTML representation is unable to render, please try loading this page with nbviewer.org.</b></div><div class=\"sk-container\" hidden><div class=\"sk-item\"><div class=\"sk-estimator sk-toggleable\"><input class=\"sk-toggleable__control sk-hidden--visually\" id=\"sk-estimator-id-2\" type=\"checkbox\" checked><label for=\"sk-estimator-id-2\" class=\"sk-toggleable__label sk-toggleable__label-arrow\">LogisticRegression</label><div class=\"sk-toggleable__content\"><pre>LogisticRegression(max_iter=3000, multi_class=&#x27;ovr&#x27;)</pre></div></div></div></div></div>"
      ],
      "text/plain": [
       "LogisticRegression(max_iter=3000, multi_class='ovr')"
      ]
     },
     "execution_count": 65,
     "metadata": {},
     "output_type": "execute_result"
    }
   ],
   "source": [
    "# Create a multi-label logistic regression model\n",
    "from sklearn.linear_model import LogisticRegression\n",
    "multi_label_lr = LogisticRegression(multi_class='ovr', max_iter=3000)\n",
    "\n",
    "# Train the model on the training set\n",
    "multi_label_lr.fit(X_train, y_train)"
   ]
  },
  {
   "cell_type": "code",
   "execution_count": 66,
   "id": "fadffc98-4332-4e4f-8cfc-8e715cf6cdf4",
   "metadata": {},
   "outputs": [],
   "source": [
    "# Make predictions on the test set\n",
    "y_pred = multi_label_lr.predict(X_test)"
   ]
  },
  {
   "cell_type": "code",
   "execution_count": 67,
   "id": "b270e208-0d03-4fa4-ab2a-b4afd3783f06",
   "metadata": {},
   "outputs": [
    {
     "name": "stdout",
     "output_type": "stream",
     "text": [
      "Accuracy: 0.5825\n",
      "Classification Report:\n",
      "               precision    recall  f1-score   support\n",
      "\n",
      "           0       0.55      0.62      0.58       123\n",
      "           1       0.66      0.71      0.68       129\n",
      "           2       0.43      0.32      0.37        31\n",
      "           3       0.61      0.53      0.57        57\n",
      "           4       0.54      0.47      0.50        45\n",
      "           5       0.36      0.27      0.31        15\n",
      "\n",
      "    accuracy                           0.58       400\n",
      "   macro avg       0.53      0.49      0.50       400\n",
      "weighted avg       0.58      0.58      0.58       400\n",
      "\n"
     ]
    }
   ],
   "source": [
    "# Calculate accuracy and display classification report\n",
    "from sklearn.metrics import accuracy_score, classification_report\n",
    "accuracy = accuracy_score(y_test, y_pred)\n",
    "print(f\"Accuracy: {accuracy:.4f}\")\n",
    "\n",
    "classification_rep = classification_report(y_test, y_pred)\n",
    "print(\"Classification Report:\\n\", classification_rep)"
   ]
  },
  {
   "cell_type": "code",
   "execution_count": null,
   "id": "be5ce087-c8e0-40ad-9967-43b47eb55ee5",
   "metadata": {},
   "outputs": [],
   "source": []
  },
  {
   "cell_type": "markdown",
   "id": "3a3bba2e-ecb6-4aa8-aede-9378c54863eb",
   "metadata": {},
   "source": [
    "## USE Embedding"
   ]
  },
  {
   "cell_type": "code",
   "execution_count": 70,
   "id": "038e7e14-d1fa-40ff-9636-73ae5aff6987",
   "metadata": {},
   "outputs": [
    {
     "data": {
      "text/html": [
       "<div>\n",
       "<style scoped>\n",
       "    .dataframe tbody tr th:only-of-type {\n",
       "        vertical-align: middle;\n",
       "    }\n",
       "\n",
       "    .dataframe tbody tr th {\n",
       "        vertical-align: top;\n",
       "    }\n",
       "\n",
       "    .dataframe thead th {\n",
       "        text-align: right;\n",
       "    }\n",
       "</style>\n",
       "<table border=\"1\" class=\"dataframe\">\n",
       "  <thead>\n",
       "    <tr style=\"text-align: right;\">\n",
       "      <th></th>\n",
       "      <th>text</th>\n",
       "      <th>label</th>\n",
       "    </tr>\n",
       "  </thead>\n",
       "  <tbody>\n",
       "    <tr>\n",
       "      <th>6413</th>\n",
       "      <td>i used to share my feeling and thought all to ...</td>\n",
       "      <td>2</td>\n",
       "    </tr>\n",
       "  </tbody>\n",
       "</table>\n",
       "</div>"
      ],
      "text/plain": [
       "                                                   text  label\n",
       "6413  i used to share my feeling and thought all to ...      2"
      ]
     },
     "execution_count": 70,
     "metadata": {},
     "output_type": "execute_result"
    }
   ],
   "source": [
    "# Convert to Pandas DataFrames\n",
    "df_train = pd.DataFrame(emotions['train'])\n",
    "df_train = df_train.sample(2000)\n",
    "df_train.head(1)"
   ]
  },
  {
   "cell_type": "code",
   "execution_count": 95,
   "id": "fa5e6fe5-9678-4420-875c-5b81af175250",
   "metadata": {},
   "outputs": [],
   "source": [
    "import tensorflow as tf\n",
    "import tensorflow_hub as hub\n",
    "\n",
    "# Load the Universal Sentence Encoder Multilingual model from TensorFlow Hub\n",
    "#module_url = \"https://tfhub.dev/google/universal-sentence-encoder-multilingual/3\"\n",
    "module_url = \"https://tfhub.dev/google/universal-sentence-encoder-lite/2\"\n",
    "embed = hub.load(module_url)"
   ]
  },
  {
   "cell_type": "code",
   "execution_count": 100,
   "id": "b1275031-aba3-427b-86a9-ccf40c471a89",
   "metadata": {},
   "outputs": [],
   "source": [
    "# Function to obtain embeddings for a given text\n",
    "def get_embedding(text):\n",
    "    embeddings = embed(sentences)\n",
    "    return embeddings.numpy()\n",
    "\n",
    "# Apply the function to the 'text' column and create a new 'text_embedding' column\n",
    "#df_train['text_embedding'] = df_train['text'].apply(get_embedding)"
   ]
  },
  {
   "cell_type": "code",
   "execution_count": null,
   "id": "bf12b82c-8fdc-4859-ba3a-d0dd24ea55a9",
   "metadata": {},
   "outputs": [],
   "source": []
  },
  {
   "cell_type": "code",
   "execution_count": null,
   "id": "6d796806-b6f3-4419-9c7e-f47f64b21459",
   "metadata": {},
   "outputs": [],
   "source": []
  },
  {
   "cell_type": "code",
   "execution_count": null,
   "id": "fa8ce13d-5485-4821-9535-35b1bce8aed6",
   "metadata": {},
   "outputs": [],
   "source": []
  },
  {
   "cell_type": "markdown",
   "id": "dfd0d99a-07c3-4f1e-9fa5-65674b47c6e5",
   "metadata": {},
   "source": [
    "## Transformers as feature extractors"
   ]
  },
  {
   "cell_type": "code",
   "execution_count": 37,
   "id": "9509b837-38d8-4855-82ec-62448fdad835",
   "metadata": {},
   "outputs": [
    {
     "name": "stdout",
     "output_type": "stream",
     "text": [
      "WARNING:tensorflow:From C:\\Users\\Abhishek_Jaiswal\\AppData\\Local\\miniconda3\\envs\\mlenv\\Lib\\site-packages\\keras\\src\\losses.py:2976: The name tf.losses.sparse_softmax_cross_entropy is deprecated. Please use tf.compat.v1.losses.sparse_softmax_cross_entropy instead.\n",
      "\n"
     ]
    },
    {
     "data": {
      "application/vnd.jupyter.widget-view+json": {
       "model_id": "bd33901bc29b4ac7924e19d7ffece66d",
       "version_major": 2,
       "version_minor": 0
      },
      "text/plain": [
       "model.safetensors:   0%|          | 0.00/268M [00:00<?, ?B/s]"
      ]
     },
     "metadata": {},
     "output_type": "display_data"
    },
    {
     "name": "stdout",
     "output_type": "stream",
     "text": [
      "WARNING:tensorflow:From C:\\Users\\Abhishek_Jaiswal\\AppData\\Local\\miniconda3\\envs\\mlenv\\Lib\\site-packages\\keras\\src\\backend.py:873: The name tf.get_default_graph is deprecated. Please use tf.compat.v1.get_default_graph instead.\n",
      "\n"
     ]
    },
    {
     "name": "stderr",
     "output_type": "stream",
     "text": [
      "Some weights of the PyTorch model were not used when initializing the TF 2.0 model TFDistilBertModel: ['vocab_layer_norm.weight', 'vocab_transform.bias', 'vocab_layer_norm.bias', 'vocab_projector.bias', 'vocab_transform.weight']\n",
      "- This IS expected if you are initializing TFDistilBertModel from a PyTorch model trained on another task or with another architecture (e.g. initializing a TFBertForSequenceClassification model from a BertForPreTraining model).\n",
      "- This IS NOT expected if you are initializing TFDistilBertModel from a PyTorch model that you expect to be exactly identical (e.g. initializing a TFBertForSequenceClassification model from a BertForSequenceClassification model).\n",
      "All the weights of TFDistilBertModel were initialized from the PyTorch model.\n",
      "If your task is similar to the task the model of the checkpoint was trained on, you can already use TFDistilBertModel for predictions without further training.\n"
     ]
    }
   ],
   "source": [
    "#1.a Using pre-trained model\n",
    "from transformers import TFAutoModel, AutoTokenizer\n",
    "tf_model = TFAutoModel.from_pretrained(model_ckpt)\n",
    "tokenizer = AutoTokenizer.from_pretrained(model_ckpt)"
   ]
  },
  {
   "cell_type": "code",
   "execution_count": 38,
   "id": "9c87cb90-9ff4-4e5f-80d6-8a6977de1574",
   "metadata": {},
   "outputs": [
    {
     "data": {
      "text/plain": [
       "{'input_ids': <tf.Tensor: shape=(1, 6), dtype=int32, numpy=array([[ 101, 2023, 2003, 1037, 3231,  102]])>, 'attention_mask': <tf.Tensor: shape=(1, 6), dtype=int32, numpy=array([[1, 1, 1, 1, 1, 1]])>}"
      ]
     },
     "execution_count": 38,
     "metadata": {},
     "output_type": "execute_result"
    }
   ],
   "source": [
    "#1.b Extracting Last hidden states\n",
    "text = \"this is a test\"\n",
    "inputs = tokenizer(text, return_tensors='tf')\n",
    "inputs"
   ]
  },
  {
   "cell_type": "code",
   "execution_count": 39,
   "id": "3950efd3-8d93-403f-91d2-0c830315d05a",
   "metadata": {},
   "outputs": [
    {
     "data": {
      "text/plain": [
       "TFBaseModelOutput(last_hidden_state=<tf.Tensor: shape=(1, 6, 768), dtype=float32, numpy=\n",
       "array([[[-0.156513  , -0.18619666,  0.05277661, ..., -0.11881153,\n",
       "          0.0662061 ,  0.54701537],\n",
       "        [-0.35751367, -0.648356  , -0.06178995, ..., -0.3040195 ,\n",
       "          0.35076845,  0.5220682 ],\n",
       "        [-0.27718437, -0.44594452,  0.18184265, ..., -0.09477907,\n",
       "         -0.00757394,  0.99582815],\n",
       "        [-0.28408557, -0.39167672,  0.37525564, ..., -0.21505764,\n",
       "         -0.11725163,  1.0526478 ],\n",
       "        [ 0.26608288, -0.509364  , -0.3180135 , ..., -0.42029774,\n",
       "          0.01444202, -0.21489538],\n",
       "        [ 0.9440616 ,  0.01117214, -0.47139424, ...,  0.14394712,\n",
       "         -0.72878313, -0.16194952]]], dtype=float32)>, hidden_states=None, attentions=None)"
      ]
     },
     "execution_count": 39,
     "metadata": {},
     "output_type": "execute_result"
    }
   ],
   "source": [
    "outputs = tf_model(inputs)\n",
    "outputs"
   ]
  },
  {
   "cell_type": "code",
   "execution_count": 40,
   "id": "2512e1fa-a49b-47e4-a7be-4189fc620a3f",
   "metadata": {},
   "outputs": [
    {
     "data": {
      "text/plain": [
       "TensorShape([1, 6, 768])"
      ]
     },
     "execution_count": 40,
     "metadata": {},
     "output_type": "execute_result"
    }
   ],
   "source": [
    "outputs.last_hidden_state.shape"
   ]
  },
  {
   "cell_type": "code",
   "execution_count": 41,
   "id": "56b1c268-89c9-4fb1-b02d-74e58ad88320",
   "metadata": {},
   "outputs": [
    {
     "data": {
      "text/plain": [
       "array([[-1.56513005e-01, -1.86196655e-01,  5.27766123e-02,\n",
       "        -1.06344059e-01, -1.31630674e-02, -2.69437909e-01,\n",
       "         9.22702178e-02,  1.58652782e-01, -9.86746550e-02,\n",
       "        -2.95723140e-01, -1.37878478e-01, -3.80609855e-02,\n",
       "        -5.36169782e-02,  1.30451798e-01,  3.97127829e-02,\n",
       "         8.68933052e-02,  2.50871032e-02,  8.61760974e-03,\n",
       "         2.52425611e-01, -1.36781469e-01, -1.21373095e-01,\n",
       "        -1.38957769e-01, -1.34264559e-01, -9.08442587e-02,\n",
       "         3.05092223e-02, -3.86192948e-02,  1.14854768e-01,\n",
       "        -5.79963475e-02,  1.01310536e-01,  9.79197398e-02,\n",
       "         3.87435406e-03,  1.19504750e-01, -6.63392395e-02,\n",
       "        -2.12569814e-02,  1.30903557e-01,  2.65199598e-02,\n",
       "         2.36243710e-01,  5.02197146e-02,  1.35027841e-02,\n",
       "        -2.13795286e-02, -8.83227736e-02, -9.83600914e-02,\n",
       "         2.26749182e-01, -2.49402765e-02, -1.62608743e-01,\n",
       "        -8.37869793e-02, -1.96290505e+00, -1.45407006e-01,\n",
       "        -1.55823022e-01, -3.54869574e-01, -4.59713154e-02,\n",
       "         2.00343877e-01,  1.30800344e-02,  4.96498227e-01,\n",
       "         1.05870917e-01,  1.20797798e-01, -1.91178530e-01,\n",
       "         3.82802606e-01,  1.71205346e-02, -1.66276954e-02,\n",
       "         2.15249360e-01,  4.43807766e-02,  3.93329933e-03,\n",
       "         3.54163423e-02,  1.22379646e-01,  2.14587897e-01,\n",
       "         1.50145115e-02,  2.37293206e-02, -2.00371802e-01,\n",
       "         2.94821948e-01, -4.01113629e-01, -1.58269346e-01,\n",
       "        -1.83785707e-03,  9.33037400e-02, -3.38790901e-02,\n",
       "        -1.52648941e-01, -1.52215213e-02,  4.11151536e-02,\n",
       "        -9.38049108e-02,  7.32344985e-02, -2.69778930e-02,\n",
       "         2.35173553e-01,  1.95664719e-01, -9.43969935e-02,\n",
       "         1.56160042e-01,  8.46217871e-02, -9.83478725e-02,\n",
       "         1.04307570e-02,  2.05743164e-02,  5.49932241e-01,\n",
       "        -4.99894135e-02,  1.11816168e-01, -5.67226112e-02,\n",
       "         1.09381996e-01,  2.42152140e-01, -3.10202807e-01,\n",
       "         9.07880813e-02, -1.37814850e-01,  3.62127572e-01,\n",
       "         2.09960952e-01, -4.68775854e-02, -4.42435324e-01,\n",
       "         1.09900281e-01, -2.83084929e-01,  1.17673144e-01,\n",
       "        -2.17608601e-01, -3.61130610e-02,  1.48392916e-02,\n",
       "        -8.40582550e-02, -2.63641262e+00,  1.84711605e-01,\n",
       "         2.35294968e-01, -7.05727935e-03, -3.14325273e-01,\n",
       "        -1.70302197e-01,  3.73699635e-01,  1.57469869e-01,\n",
       "         6.31973520e-02,  1.60100564e-01,  7.49000534e-02,\n",
       "        -3.02337140e-01,  6.04118705e-01, -1.07167289e-03,\n",
       "         1.24615878e-02,  1.31543539e-03,  3.22609454e-01,\n",
       "         1.51193306e-01,  1.84432447e-01, -1.83067843e-03,\n",
       "         5.52417561e-02,  1.72488719e-01,  3.66440952e-01,\n",
       "         2.72581220e-01, -1.27200233e-02, -3.08675647e-01,\n",
       "        -1.12467073e-02, -1.07108369e-01, -9.71860215e-02,\n",
       "        -3.26712132e-01,  4.64466475e-02, -1.58922136e-01,\n",
       "        -3.53225656e-02, -2.96208549e+00,  2.89530665e-01,\n",
       "         3.56262416e-01, -2.30081603e-02, -2.38577634e-01,\n",
       "        -2.58657992e-01,  1.09318212e-01,  2.44082093e-01,\n",
       "         3.10923979e-02,  3.70527536e-01, -2.85381258e-01,\n",
       "         1.43990129e-01, -2.20062479e-01, -5.57418466e-02,\n",
       "        -1.04056165e-01, -3.42348684e-03, -1.14063144e-01,\n",
       "         9.16263014e-02,  1.73794255e-01, -4.39608246e-02,\n",
       "        -6.40876740e-02, -1.40914604e-01,  3.64984106e-03,\n",
       "        -5.32157719e-06,  3.15009683e-01,  2.06125498e-01,\n",
       "         1.19813994e-01,  1.34923682e-01, -1.66328758e-01,\n",
       "        -2.48666123e-01,  1.04328528e-01,  1.82413667e-01,\n",
       "         4.41735759e-02, -1.45883590e-01, -4.63149473e-02,\n",
       "         7.34828264e-02,  2.12786391e-01, -7.27701932e-02,\n",
       "        -5.07325530e-02,  3.87022048e-01,  6.87657073e-02,\n",
       "         8.37922320e-02,  7.66949356e-02, -8.91750529e-02,\n",
       "         3.36216062e-01, -2.08373919e-01, -9.83589143e-03,\n",
       "         2.22847134e-01, -2.09227856e-02, -6.22995570e-02,\n",
       "         1.13792121e-01, -1.53662920e-01,  3.20896685e-01,\n",
       "         9.95406583e-02, -7.01044053e-02, -3.56782764e-01,\n",
       "         2.70383470e-02,  1.23853795e-01, -1.08807534e-01,\n",
       "        -1.26557369e-02,  2.46746875e-02,  1.67256780e-02,\n",
       "        -5.35980240e-03,  3.70467043e+00,  1.25505120e-01,\n",
       "        -1.09183416e-01,  1.56299055e-01,  7.89009184e-02,\n",
       "        -5.07347360e-02,  2.70439386e-01, -1.02253109e-01,\n",
       "        -2.67423540e-01,  2.87231356e-01, -1.89794675e-02,\n",
       "         4.75036651e-02,  1.25394896e-01,  3.65126729e-01,\n",
       "        -1.06062382e-01,  3.50532770e-01,  7.49466643e-02,\n",
       "        -9.57316346e-03,  2.48675570e-01, -1.36988729e-01,\n",
       "         2.49590635e-01,  2.04883620e-01,  1.86585650e-01,\n",
       "         3.28458250e-01, -1.18784904e+00, -3.77117842e-02,\n",
       "        -7.98785239e-02,  9.10558030e-02,  3.39209676e-01,\n",
       "        -4.89103347e-02,  9.24580917e-02,  1.42218634e-01,\n",
       "         9.75418836e-03,  1.42071784e-01,  4.23559826e-03,\n",
       "        -4.31881472e-02,  4.04598236e-01,  5.87085858e-02,\n",
       "         1.86714828e-01, -2.07971603e-01,  6.55739531e-02,\n",
       "         3.60670276e-02,  7.84552097e-03,  6.99465722e-02,\n",
       "        -1.37071162e-01,  3.58339660e-02, -1.17065296e-01,\n",
       "        -7.87822455e-02, -2.12602928e-01, -8.86037052e-02,\n",
       "        -1.08141139e-01,  2.12541111e-02,  1.71527714e-02,\n",
       "        -1.45293295e-01,  2.46245444e-01, -3.44435871e-01,\n",
       "        -1.48412257e-01,  8.29085708e-02,  8.17400664e-02,\n",
       "        -2.06703782e-01, -1.93922862e-01, -1.67272776e-01,\n",
       "         9.34847072e-03,  1.43531889e-01,  1.12027317e-01,\n",
       "        -6.96463138e-02, -3.69136661e-01, -3.07337761e-01,\n",
       "        -4.29051733e+00, -3.33933532e-02, -5.18384390e-02,\n",
       "         1.26145318e-01,  4.35012490e-01, -2.31110960e-01,\n",
       "         2.61146098e-01,  2.06274644e-01,  2.33933628e-01,\n",
       "        -2.12748468e-01,  3.50952297e-01,  1.08363003e-01,\n",
       "        -3.65647301e-02,  1.50571033e-01, -3.90176952e-01,\n",
       "         1.95194378e-01, -8.26387852e-02, -2.14180127e-01,\n",
       "         1.66682869e-01, -1.01794437e-01, -1.49710745e-01,\n",
       "         3.91280442e-01, -5.37185818e-02,  4.63214144e-03,\n",
       "        -7.81201124e-02, -2.83647683e-02, -2.53127635e-01,\n",
       "        -1.41419113e-01, -2.65926570e-02, -1.42387271e-01,\n",
       "        -1.96661148e-02, -1.51553139e-01,  3.36050913e-02,\n",
       "        -1.01594567e-01, -2.24509776e-01, -2.25710106e+00,\n",
       "        -6.79692030e-02, -4.95265517e-03, -7.35740811e-02,\n",
       "        -2.12572403e-02, -7.45458826e-02,  1.99950933e-01,\n",
       "        -7.29705989e-02, -2.40538538e-01,  6.67746812e-02,\n",
       "        -6.23960197e-02, -8.05967152e-02, -2.15455875e-01,\n",
       "         2.36286968e-01,  3.71875346e-01,  1.06140219e-01,\n",
       "         1.04661047e-01,  5.28059565e-02,  2.78064251e-01,\n",
       "         2.63893187e-01, -9.26751047e-02,  1.25133991e-03,\n",
       "        -1.81383342e-01, -1.74557269e-01, -9.29952860e-02,\n",
       "         2.27754191e-01, -3.53183687e-01,  1.49163660e-02,\n",
       "        -1.95779607e-01, -1.41042113e-01, -3.41885574e-02,\n",
       "        -2.16469273e-01,  9.04123560e-02, -2.45720968e-01,\n",
       "        -2.01302826e-01, -1.10213675e-01, -1.16843060e-02,\n",
       "         1.37211770e-01,  3.89519006e-01, -4.88675572e-03,\n",
       "        -2.70526409e-01,  6.34089828e-01,  2.01995432e-01,\n",
       "         1.48724049e-01,  4.64910232e-02,  1.06272772e-01,\n",
       "         1.07222259e-01, -1.53614551e-01, -8.68695155e-02,\n",
       "         1.33687854e-01, -1.97133362e-01,  1.40384823e-01,\n",
       "         1.03153253e+00, -1.86853573e-01,  2.60500908e-02,\n",
       "        -1.96595624e-01,  2.57778287e-01,  6.69121742e-04,\n",
       "         2.00693041e-01,  2.27549881e-01,  3.42782378e-01,\n",
       "        -1.55757532e-01,  2.50179589e-01, -1.38930544e-01,\n",
       "        -1.18178859e-01, -2.07921654e-01,  1.03857949e-01,\n",
       "        -3.45005810e-01,  1.23414889e-01, -8.84228200e-02,\n",
       "        -3.18159573e-02,  1.46759331e-01, -4.90189716e-02,\n",
       "        -7.05145895e-01, -2.74588883e-01, -1.49465293e-01,\n",
       "        -1.41075179e-01,  1.63742080e-02,  1.12977147e-01,\n",
       "        -2.60832943e-02, -2.56268501e-01, -6.14200309e-02,\n",
       "        -8.47226828e-02,  2.48764157e-01,  3.61161046e-02,\n",
       "        -9.27673467e-03, -5.18154129e-02,  1.55896217e-01,\n",
       "        -3.56901497e-01,  3.19412574e-02,  1.97646730e-02,\n",
       "         3.45982671e-01,  1.55369684e-01,  1.60954580e-01,\n",
       "         6.00668490e-02, -5.37503809e-02,  2.33306929e-01,\n",
       "        -7.61747837e-01,  1.71233892e-01, -2.65022218e-01,\n",
       "        -2.86831409e-02, -3.02222699e-01, -1.80180579e-01,\n",
       "         5.20087108e-02, -1.66307405e-01, -2.89730430e-02,\n",
       "        -2.57466555e-01,  3.86508584e-01,  1.45332113e-01,\n",
       "         2.59436727e-01,  1.58102021e-01,  1.92885756e-01,\n",
       "        -4.07673642e-02,  2.21581459e-02,  7.27752686e-01,\n",
       "         2.62966305e-01, -2.06893146e-01,  1.49732485e-01,\n",
       "         1.87346071e-01, -9.35549662e-03,  1.63382560e-01,\n",
       "         1.45805448e-01, -6.76983744e-02, -1.47637963e-01,\n",
       "        -1.86879158e-01,  3.81286815e-03,  7.29769841e-02,\n",
       "        -1.55117184e-01, -2.10368037e-01,  1.34826172e-02,\n",
       "        -7.30815204e-03,  2.61903703e-01, -2.08570048e-01,\n",
       "        -4.52531785e-01, -7.38228858e-03, -8.44645724e-02,\n",
       "        -6.07314296e-02,  5.30259609e-01,  3.25255066e-01,\n",
       "         2.28500441e-02,  4.44671243e-01,  3.07292521e-01,\n",
       "        -1.15059197e-01,  2.04963014e-01, -6.30918071e-02,\n",
       "         2.02445030e-01,  6.38647079e-02, -3.80611345e-02,\n",
       "        -2.70485338e-02,  2.49939725e-01,  2.12932944e-01,\n",
       "        -2.72877514e-01,  1.53561383e-01, -1.47765636e-01,\n",
       "         5.56199849e-02, -1.91330053e-02,  6.55993223e-02,\n",
       "        -6.88738376e-02,  7.61365294e-02, -5.07778376e-02,\n",
       "         2.49435287e-02,  2.30639711e-01, -1.22614086e+00,\n",
       "        -1.16377920e-02,  2.45349869e-01,  8.69968235e-02,\n",
       "        -8.54304284e-02,  3.50668356e-02, -7.73572549e-02,\n",
       "         4.24373239e-01, -5.91867119e-02, -1.03231117e-01,\n",
       "         1.95926279e-02,  6.77967891e-02,  2.85658631e-02,\n",
       "        -2.21260637e-03,  8.85757655e-02, -4.61842865e-05,\n",
       "         1.91132754e-01, -5.62784672e-02,  1.14287928e-01,\n",
       "         3.14750895e-02, -7.74070993e-02,  2.71634072e-01,\n",
       "         7.27009326e-02, -1.82059526e-01, -1.30568609e-01,\n",
       "        -5.03963791e-04, -1.21330425e-01,  2.49683425e-01,\n",
       "         1.45981804e-01,  5.79178333e-03,  1.16304561e-01,\n",
       "        -2.10376829e-01, -4.67184126e-01, -6.31337985e-02,\n",
       "         4.45398390e-02, -1.21246278e-02,  3.70445028e-02,\n",
       "         8.51916894e-03,  2.30124444e-01,  2.32664660e-01,\n",
       "        -3.67077172e-01,  1.65621758e-01,  7.57679492e-02,\n",
       "        -7.79263955e-03,  1.51688308e-01,  2.12953418e-01,\n",
       "        -2.66396224e-01,  4.05045599e-02, -1.13858521e-01,\n",
       "        -2.28461191e-01, -1.03326932e-01, -3.10936838e-01,\n",
       "        -2.14795843e-01, -9.41049084e-02,  8.64681304e-02,\n",
       "        -4.39940840e-02,  1.02307856e-01, -8.40057731e-02,\n",
       "        -1.30899712e-01, -1.15084529e-01,  3.19424957e-01,\n",
       "        -1.53373048e-01,  4.18164097e-02,  1.75154716e-01,\n",
       "        -2.09360689e-01, -8.16710532e-01,  4.96208668e-03,\n",
       "        -1.89855471e-02, -1.17142774e-01,  8.77794623e-02,\n",
       "         1.49613246e-01, -1.09662667e-01, -1.05508685e-01,\n",
       "        -2.48235971e-01, -3.68942320e-01,  1.87415048e-01,\n",
       "        -1.45417154e-01, -1.59074962e-01,  6.72220215e-02,\n",
       "        -1.02297798e-01, -7.68071413e-03, -2.19177410e-01,\n",
       "        -1.28857866e-01,  7.59778917e-02,  1.63761169e-01,\n",
       "         6.08112924e-02, -4.80504110e-02,  3.07562929e-02,\n",
       "        -1.69627182e-02,  1.20960973e-01, -2.36214742e-01,\n",
       "        -3.67429899e-03,  3.49420816e-01,  1.94100693e-01,\n",
       "         3.16463560e-01, -1.46692514e-01,  1.41048238e-01,\n",
       "         3.12079117e-02,  7.89158791e-02, -1.92252100e-01,\n",
       "        -7.72513449e-02,  2.22139567e-01,  1.01628713e-03,\n",
       "         1.84659913e-01,  7.18330890e-02,  2.64355689e-01,\n",
       "         2.68265039e-01,  1.35919243e-01, -2.17964694e-01,\n",
       "        -1.67056262e-01,  1.33749470e-02,  2.14781553e-01,\n",
       "         1.32759616e-01, -9.84658748e-02,  1.17308527e-01,\n",
       "         6.86772466e-02,  9.05665159e-02,  8.69234651e-02,\n",
       "         2.21211910e+00,  2.34187126e-01,  4.62507345e-02,\n",
       "         8.46232101e-02,  1.00937381e-01,  2.72460401e-01,\n",
       "         6.38961419e-02,  1.67219654e-01, -1.52845401e-02,\n",
       "         1.61848336e-01, -1.71566069e-01,  1.47888064e-03,\n",
       "        -1.90850586e-01,  7.59004503e-02,  1.10111766e-01,\n",
       "         1.28166556e-01,  2.78936327e-03,  9.58993100e-03,\n",
       "        -3.68764818e-01, -1.18364692e-01, -2.78711647e-01,\n",
       "         3.68218005e-01,  2.22096384e-01,  1.14804246e-01,\n",
       "        -6.70325458e-02,  1.91502064e-01,  2.24729627e-01,\n",
       "        -3.33940983e-02, -1.56347230e-02, -1.47562444e-01,\n",
       "         1.34890731e-02,  2.43685290e-01,  2.15643104e-02,\n",
       "         1.75167933e-01, -2.16296971e-01, -1.40896067e-01,\n",
       "         1.00524589e-01, -3.90135348e-01, -6.28297701e-02,\n",
       "         5.57979234e-02, -3.35142910e-02, -3.73676807e-01,\n",
       "         3.94871294e-01, -1.89479142e-01, -1.25722289e-01,\n",
       "         3.52029026e-01, -1.88739635e-02, -1.56786054e-01,\n",
       "         9.31288209e-03,  5.39817102e-02,  2.03256160e-01,\n",
       "         6.78302720e-02, -1.54589042e-02,  2.07343057e-01,\n",
       "        -1.96032405e-01, -9.66266692e-02,  1.41662329e-01,\n",
       "        -2.12755725e-02,  5.14875576e-02,  1.44685760e-01,\n",
       "         1.25441141e-03,  1.31079346e-01,  1.60949439e-01,\n",
       "         1.05914950e-01,  5.92946932e-02,  4.58363742e-02,\n",
       "        -1.41501233e-01,  1.78244993e-01, -2.57376134e-01,\n",
       "         1.71063900e-01, -1.37292631e-02,  9.62266102e-02,\n",
       "         1.31970733e-01,  2.07389280e-01,  2.09069401e-01,\n",
       "         3.96398157e-02,  3.68741184e-01,  1.44752517e-01,\n",
       "        -8.95635486e-02, -2.84062314e+00,  2.45729581e-01,\n",
       "         1.15329117e-01,  2.27866024e-01,  5.03086932e-02,\n",
       "         2.63450086e-01,  1.47824794e-01, -2.56315209e-02,\n",
       "         2.78310739e-02, -6.01499192e-02,  1.15713187e-01,\n",
       "         2.07003206e-01,  2.91776657e-01,  5.77749684e-02,\n",
       "         2.40753800e-01,  1.20625749e-01,  8.95192474e-02,\n",
       "        -1.38056412e-01,  8.74368995e-02, -8.61274526e-02,\n",
       "        -3.05865347e-01,  1.56904161e-01,  1.30571961e-01,\n",
       "        -5.86901605e-02, -3.59173506e-01, -1.20317742e-01,\n",
       "        -1.07810847e-01,  1.19555509e-02,  1.30006433e-01,\n",
       "        -1.70641318e-02, -1.32278666e-01,  1.91397578e-01,\n",
       "        -9.48295444e-02,  1.38676479e-01,  2.31515504e-02,\n",
       "        -6.35463968e-02,  6.98548034e-02, -2.35549033e-01,\n",
       "         1.52874321e-01,  3.84010196e-01, -2.28203505e-01,\n",
       "         3.41898292e-01, -1.77428648e-01,  1.71651810e-01,\n",
       "        -2.34396636e-01, -4.63871658e-02,  3.11704636e-01,\n",
       "        -1.30295128e-01,  4.76297647e-01, -3.23734164e-01,\n",
       "        -1.45252317e-01,  2.87508070e-01,  4.57928367e-02,\n",
       "         4.56195474e-02,  1.26121283e-01, -1.04416259e-01,\n",
       "         1.06848210e-01, -5.90449646e-02, -8.47823247e-02,\n",
       "        -1.06550679e-01, -3.33195589e-02, -2.20470876e-01,\n",
       "        -9.31841359e-02, -1.27640799e-01,  2.13108331e-01,\n",
       "         1.08759850e-05, -6.18555844e-02,  1.62222415e-01,\n",
       "        -1.70508057e-01, -5.35832942e-02, -1.08787104e-01,\n",
       "         5.11600561e-02,  1.13014877e-01,  1.68156594e-01,\n",
       "         2.47994930e-01, -2.60113925e-02,  1.62269413e-01,\n",
       "         3.34062636e-01,  5.34241274e-02,  1.63698658e-01,\n",
       "         3.56432647e-02, -3.63884509e-01,  6.76403418e-02,\n",
       "         8.74772668e-04,  3.03296298e-01, -8.11906910e+00,\n",
       "        -1.51685268e-01, -2.46371239e-01, -1.95274487e-01,\n",
       "        -7.78689981e-03, -1.39635786e-01,  7.63162598e-02,\n",
       "        -1.07916318e-01,  1.18920960e-01, -2.06123754e-01,\n",
       "        -7.32536465e-02,  1.63540497e-01, -7.96801597e-02,\n",
       "        -1.18811533e-01,  6.62060976e-02,  5.47015369e-01]], dtype=float32)"
      ]
     },
     "execution_count": 41,
     "metadata": {},
     "output_type": "execute_result"
    }
   ],
   "source": [
    "outputs.last_hidden_state[:, 0].numpy()"
   ]
  },
  {
   "cell_type": "code",
   "execution_count": 42,
   "id": "5ce12290-8e7c-48bf-9816-c0706a708028",
   "metadata": {},
   "outputs": [
    {
     "data": {
      "text/plain": [
       "DatasetDict({\n",
       "    train: Dataset({\n",
       "        features: ['text', 'label', 'input_ids', 'attention_mask'],\n",
       "        num_rows: 16000\n",
       "    })\n",
       "    validation: Dataset({\n",
       "        features: ['text', 'label', 'input_ids', 'attention_mask'],\n",
       "        num_rows: 2000\n",
       "    })\n",
       "    test: Dataset({\n",
       "        features: ['text', 'label', 'input_ids', 'attention_mask'],\n",
       "        num_rows: 2000\n",
       "    })\n",
       "})"
      ]
     },
     "execution_count": 42,
     "metadata": {},
     "output_type": "execute_result"
    }
   ],
   "source": [
    "emotions_encoded"
   ]
  },
  {
   "cell_type": "code",
   "execution_count": 43,
   "id": "2d8d5d26-79cc-45bc-9c1a-6dbe5317fafb",
   "metadata": {},
   "outputs": [
    {
     "name": "stderr",
     "output_type": "stream",
     "text": [
      "C:\\Users\\Abhishek_Jaiswal\\AppData\\Local\\miniconda3\\envs\\mlenv\\Lib\\site-packages\\transformers\\generation\\tf_utils.py:465: UserWarning: `seed_generator` is deprecated and will be removed in a future version.\n",
      "  warnings.warn(\"`seed_generator` is deprecated and will be removed in a future version.\", UserWarning)\n"
     ]
    },
    {
     "data": {
      "application/vnd.jupyter.widget-view+json": {
       "model_id": "112656c6599a4d01a70742712cb2b28b",
       "version_major": 2,
       "version_minor": 0
      },
      "text/plain": [
       "Map:   0%|          | 0/16000 [00:00<?, ? examples/s]"
      ]
     },
     "metadata": {},
     "output_type": "display_data"
    },
    {
     "data": {
      "application/vnd.jupyter.widget-view+json": {
       "model_id": "c33bc3b3cf5e47b386ce866ff601630f",
       "version_major": 2,
       "version_minor": 0
      },
      "text/plain": [
       "Map:   0%|          | 0/2000 [00:00<?, ? examples/s]"
      ]
     },
     "metadata": {},
     "output_type": "display_data"
    },
    {
     "data": {
      "application/vnd.jupyter.widget-view+json": {
       "model_id": "7f1fd776d5ad463c86174fc3aad7f241",
       "version_major": 2,
       "version_minor": 0
      },
      "text/plain": [
       "Map:   0%|          | 0/2000 [00:00<?, ? examples/s]"
      ]
     },
     "metadata": {},
     "output_type": "display_data"
    }
   ],
   "source": [
    "emotions_encoded.reset_format()\n",
    "\n",
    "def extract_hidden_states(batch):\n",
    "    # First convert text to tokens\n",
    "    inputs = tokenizer(batch[\"text\"], padding=True, \n",
    "                       truncation=True, return_tensors='tf')\n",
    "    # Extract last hidden states\n",
    "    outputs = tf_model(inputs)\n",
    "     # Return vector for [CLS] token\n",
    "    return {\"hidden_state\": outputs.last_hidden_state[:,0].numpy()}\n",
    "\n",
    "emotions_hidden = emotions_encoded.map(extract_hidden_states, batched=True, batch_size=64)"
   ]
  },
  {
   "cell_type": "code",
   "execution_count": 44,
   "id": "a3202036-86ec-48a9-80fc-085dce88128c",
   "metadata": {},
   "outputs": [
    {
     "data": {
      "text/plain": [
       "DatasetDict({\n",
       "    train: Dataset({\n",
       "        features: ['text', 'label', 'input_ids', 'attention_mask', 'hidden_state'],\n",
       "        num_rows: 16000\n",
       "    })\n",
       "    validation: Dataset({\n",
       "        features: ['text', 'label', 'input_ids', 'attention_mask', 'hidden_state'],\n",
       "        num_rows: 2000\n",
       "    })\n",
       "    test: Dataset({\n",
       "        features: ['text', 'label', 'input_ids', 'attention_mask', 'hidden_state'],\n",
       "        num_rows: 2000\n",
       "    })\n",
       "})"
      ]
     },
     "execution_count": 44,
     "metadata": {},
     "output_type": "execute_result"
    }
   ],
   "source": [
    "emotions_hidden"
   ]
  },
  {
   "cell_type": "code",
   "execution_count": 45,
   "id": "5d7e6be5-707d-4183-9cb4-c50fa11c17fe",
   "metadata": {},
   "outputs": [
    {
     "data": {
      "text/plain": [
       "((16000, 768), (2000, 768))"
      ]
     },
     "execution_count": 45,
     "metadata": {},
     "output_type": "execute_result"
    }
   ],
   "source": [
    "#1.c Creating feature matrix\n",
    "import numpy as np\n",
    "X_train = np.array(emotions_hidden[\"train\"][\"hidden_state\"])\n",
    "X_valid = np.array(emotions_hidden[\"validation\"][\"hidden_state\"])\n",
    "y_train = np.array(emotions_hidden[\"train\"][\"label\"])\n",
    "y_valid = np.array(emotions_hidden[\"validation\"][\"label\"])\n",
    "X_train.shape, X_valid.shape"
   ]
  },
  {
   "cell_type": "code",
   "execution_count": 46,
   "id": "76d12885-2453-4ae3-a272-ab06baded10e",
   "metadata": {},
   "outputs": [
    {
     "data": {
      "text/plain": [
       "0.6335"
      ]
     },
     "execution_count": 46,
     "metadata": {},
     "output_type": "execute_result"
    }
   ],
   "source": [
    "#Training with classifier\n",
    "from sklearn.linear_model import LogisticRegression\n",
    "\n",
    "# We increase `max_iter` to guarantee convergence\n",
    "lr_clf = LogisticRegression(max_iter=3000)\n",
    "lr_clf.fit(X_train, y_train)\n",
    "lr_clf.score(X_valid, y_valid)"
   ]
  },
  {
   "cell_type": "code",
   "execution_count": 55,
   "id": "422f6b8e-b841-4d2d-96b6-d05845a7d55d",
   "metadata": {},
   "outputs": [],
   "source": [
    "# Make predictions on the validation set\n",
    "y_preds = lr_clf.predict(X_valid)"
   ]
  },
  {
   "cell_type": "code",
   "execution_count": 56,
   "id": "2212cac1-48e2-41c0-bcfd-24c1d28cbd21",
   "metadata": {},
   "outputs": [],
   "source": [
    "from sklearn.metrics import confusion_matrix\n",
    "import seaborn as sns\n",
    "\n",
    "def plot_cm(y_true, y_pred, figsize=(15, 15)):\n",
    "    cm = confusion_matrix(y_true, y_pred, labels=np.unique(y_true))\n",
    "    cm_sum = np.sum(cm, axis=1, keepdims=True)\n",
    "    cm_perc = cm / cm_sum.astype(float) * 100\n",
    "    annot = np.empty_like(cm).astype(str)\n",
    "    nrows, ncols = cm.shape\n",
    "    for i in range(nrows):\n",
    "        for j in range(ncols):\n",
    "            c = cm[i, j]\n",
    "            p = cm_perc[i, j]\n",
    "            if i == j:\n",
    "                s = cm_sum[i]\n",
    "                annot[i, j] = '%.1f%%\\n%d/%d' % (p, c, s)\n",
    "            elif c == 0:\n",
    "                annot[i, j] = ''\n",
    "            else:\n",
    "                annot[i, j] = '%.1f%%\\n%d' % (p, c)\n",
    "    cm = pd.DataFrame(cm, index=np.unique(y_true), columns=np.unique(y_true))\n",
    "    cm.index.name = 'Actual'\n",
    "    cm.columns.name = 'Predicted'\n",
    "    fig, ax = plt.subplots(figsize=figsize)\n",
    "    sns.heatmap(cm, cmap= \"YlGnBu\", annot=annot, fmt='', ax=ax)"
   ]
  },
  {
   "cell_type": "code",
   "execution_count": 57,
   "id": "92928298-cf3a-48fe-8c3c-9c938ef69301",
   "metadata": {},
   "outputs": [],
   "source": [
    "df_eval = pd.DataFrame({'y_true': y_valid, 'y_preds': y_preds})\n",
    "df_eval['y_true'] = (df_eval['y_true'].apply(label_int2str))\n",
    "df_eval['y_preds'] = (df_eval['y_preds'].apply(label_int2str))"
   ]
  },
  {
   "cell_type": "code",
   "execution_count": 58,
   "id": "383798c0-8749-4b34-b759-dd87f791e05b",
   "metadata": {},
   "outputs": [
    {
     "name": "stderr",
     "output_type": "stream",
     "text": [
      "C:\\Users\\Abhishek_Jaiswal\\AppData\\Local\\Temp\\ipykernel_13608\\3227192740.py:16: DeprecationWarning: Conversion of an array with ndim > 0 to a scalar is deprecated, and will error in future. Ensure you extract a single element from your array before performing this operation. (Deprecated NumPy 1.25.)\n",
      "  annot[i, j] = '%.1f%%\\n%d/%d' % (p, c, s)\n"
     ]
    },
    {
     "data": {
      "image/png": "[encoded data removed]",
      "text/plain": [
       "<Figure size 1500x1500 with 2 Axes>"
      ]
     },
     "metadata": {},
     "output_type": "display_data"
    }
   ],
   "source": [
    "plot_cm(df_eval['y_true'], df_eval['y_preds'])"
   ]
  },
  {
   "cell_type": "code",
   "execution_count": null,
   "id": "3af79d7f-b6a3-433a-9744-8c8bca8ea8c5",
   "metadata": {},
   "outputs": [],
   "source": [
    "from sklearn.metrics import classification_report\n",
    "print(classification_report(df_eval['y_preds'], df_eval['y_true']))"
   ]
  },
  {
   "cell_type": "markdown",
   "id": "b54201a9-724f-46e6-9a54-b437e809e720",
   "metadata": {},
   "source": [
    "# Fine-tuning Transformers"
   ]
  },
  {
   "cell_type": "code",
   "execution_count": null,
   "id": "f8f6e378-19c4-459f-9968-ca8a7fac0009",
   "metadata": {},
   "outputs": [],
   "source": []
  },
  {
   "cell_type": "code",
   "execution_count": 60,
   "id": "50fa6733-0216-4c86-b7dc-1db3db07f850",
   "metadata": {},
   "outputs": [
    {
     "name": "stderr",
     "output_type": "stream",
     "text": [
      "Some weights of the PyTorch model were not used when initializing the TF 2.0 model TFDistilBertForSequenceClassification: ['vocab_layer_norm.weight', 'vocab_transform.bias', 'vocab_layer_norm.bias', 'vocab_projector.bias', 'vocab_transform.weight']\n",
      "- This IS expected if you are initializing TFDistilBertForSequenceClassification from a PyTorch model trained on another task or with another architecture (e.g. initializing a TFBertForSequenceClassification model from a BertForPreTraining model).\n",
      "- This IS NOT expected if you are initializing TFDistilBertForSequenceClassification from a PyTorch model that you expect to be exactly identical (e.g. initializing a TFBertForSequenceClassification model from a BertForSequenceClassification model).\n",
      "Some weights or buffers of the TF 2.0 model TFDistilBertForSequenceClassification were not initialized from the PyTorch model and are newly initialized: ['pre_classifier.weight', 'pre_classifier.bias', 'classifier.weight', 'classifier.bias']\n",
      "You should probably TRAIN this model on a down-stream task to be able to use it for predictions and inference.\n"
     ]
    }
   ],
   "source": [
    "#2.a Loading a pretrained model\n",
    "from transformers import TFAutoModelForSequenceClassification\n",
    "tf_model = (TFAutoModelForSequenceClassification.from_pretrained(model_ckpt, num_labels=6))"
   ]
  },
  {
   "cell_type": "code",
   "execution_count": 61,
   "id": "c173af82-d93e-480b-a28a-00d2c7d76de9",
   "metadata": {},
   "outputs": [
    {
     "name": "stdout",
     "output_type": "stream",
     "text": [
      "Model: \"tf_distil_bert_for_sequence_classification_1\"\n",
      "_________________________________________________________________\n",
      " Layer (type)                Output Shape              Param #   \n",
      "=================================================================\n",
      " distilbert (TFDistilBertMa  multiple                  66362880  \n",
      " inLayer)                                                        \n",
      "                                                                 \n",
      " pre_classifier (Dense)      multiple                  590592    \n",
      "                                                                 \n",
      " classifier (Dense)          multiple                  4614      \n",
      "                                                                 \n",
      " dropout_58 (Dropout)        multiple                  0         \n",
      "                                                                 \n",
      "=================================================================\n",
      "Total params: 66958086 (255.42 MB)\n",
      "Trainable params: 66958086 (255.42 MB)\n",
      "Non-trainable params: 0 (0.00 Byte)\n",
      "_________________________________________________________________\n"
     ]
    }
   ],
   "source": [
    "tf_model.summary()"
   ]
  },
  {
   "cell_type": "code",
   "execution_count": 68,
   "id": "07463285-691d-4428-8f93-11d9bf95621e",
   "metadata": {},
   "outputs": [
    {
     "name": "stdout",
     "output_type": "stream",
     "text": [
      "You must install pydot (`pip install pydot`) and install graphviz (see instructions at https://graphviz.gitlab.io/download/) for plot_model to work.\n"
     ]
    }
   ],
   "source": [
    "import tensorflow as tf\n",
    "tf.keras.utils.plot_model(tf_model, show_shapes = True)"
   ]
  },
  {
   "cell_type": "code",
   "execution_count": 69,
   "id": "66243a00-62cb-4dbf-903b-8e2c3c72a17d",
   "metadata": {},
   "outputs": [
    {
     "name": "stderr",
     "output_type": "stream",
     "text": [
      "C:\\Users\\Abhishek_Jaiswal\\AppData\\Local\\miniconda3\\envs\\mlenv\\Lib\\site-packages\\datasets\\arrow_dataset.py:400: FutureWarning: The output of `to_tf_dataset` will change when a passing single element list for `labels` or `columns` in the next datasets version. To return a tuple structure rather than dict, pass a single string.\n",
      "Old behaviour: columns=['a'], labels=['labels'] -> (tf.Tensor, tf.Tensor)  \n",
      "             : columns='a', labels='labels' -> (tf.Tensor, tf.Tensor)  \n",
      "New behaviour: columns=['a'],labels=['labels'] -> ({'a': tf.Tensor}, {'labels': tf.Tensor})  \n",
      "             : columns='a', labels='labels' -> (tf.Tensor, tf.Tensor) \n",
      "  warnings.warn(\n",
      "You're using a DistilBertTokenizerFast tokenizer. Please note that with a fast tokenizer, using the `__call__` method is faster than using a method to encode the text followed by a call to the `pad` method to get a padded encoding.\n"
     ]
    },
    {
     "data": {
      "text/plain": [
       "<_PrefetchDataset element_spec=({'input_ids': TensorSpec(shape=(None, 87), dtype=tf.int64, name=None), 'attention_mask': TensorSpec(shape=(None, 87), dtype=tf.int64, name=None)}, TensorSpec(shape=(None,), dtype=tf.int64, name=None))>"
      ]
     },
     "execution_count": 69,
     "metadata": {},
     "output_type": "execute_result"
    }
   ],
   "source": [
    "# The column names to convert to TensorFlow tensors\n",
    "from transformers import DataCollatorWithPadding\n",
    "\n",
    "tokenizer_columns = tokenizer.model_input_names\n",
    "\n",
    "# Define a batch size\n",
    "batch_size = 64\n",
    "\n",
    "data_collator = DataCollatorWithPadding(tokenizer=tokenizer, return_tensors=\"tf\")\n",
    "\n",
    "tf_train_dataset = emotions_encoded[\"train\"].to_tf_dataset(columns=tokenizer_columns, \n",
    "                                                           label_cols=[\"label\"], shuffle=True,\n",
    "                                                           batch_size=batch_size,\n",
    "                                                           collate_fn=data_collator)\n",
    "tf_eval_dataset = emotions_encoded[\"validation\"].to_tf_dataset(columns=tokenizer_columns, \n",
    "                                                               label_cols=[\"label\"], shuffle=False,\n",
    "                                                               batch_size=batch_size,\n",
    "                                                               collate_fn=data_collator)\n",
    "\n",
    "tf_train_dataset"
   ]
  },
  {
   "cell_type": "code",
   "execution_count": null,
   "id": "c090692f-a68d-4956-abc2-2fd820141cf1",
   "metadata": {},
   "outputs": [
    {
     "name": "stdout",
     "output_type": "stream",
     "text": [
      "Epoch 1/2\n",
      "WARNING:tensorflow:From C:\\Users\\Abhishek_Jaiswal\\AppData\\Local\\miniconda3\\envs\\mlenv\\Lib\\site-packages\\keras\\src\\utils\\tf_utils.py:492: The name tf.ragged.RaggedTensorValue is deprecated. Please use tf.compat.v1.ragged.RaggedTensorValue instead.\n",
      "\n",
      " 71/250 [=======>......................] - ETA: 41:36 - loss: 1.0420 - sparse_categorical_accuracy: 0.6380"
     ]
    }
   ],
   "source": [
    "import tensorflow as tf\n",
    "\n",
    "tf_model.compile(optimizer=tf.keras.optimizers.Adam(learning_rate=5e-5),\n",
    "                 loss=tf.keras.losses.SparseCategoricalCrossentropy(from_logits=True),\n",
    "                 metrics=tf.metrics.SparseCategoricalAccuracy())\n",
    "\n",
    "tf_model.fit(tf_train_dataset, validation_data=tf_eval_dataset, epochs=1)"
   ]
  },
  {
   "cell_type": "code",
   "execution_count": null,
   "id": "cb234aa3-d775-4e03-9127-42d6277540a7",
   "metadata": {},
   "outputs": [],
   "source": [
    "#Saving the model\n",
    "#tf.keras.models.save_model(tf_model, filepath='my_model', overwrite=True, save_format='tf')"
   ]
  },
  {
   "cell_type": "code",
   "execution_count": null,
   "id": "67bb74ee-d0f8-4139-b121-7cce0e5a6fec",
   "metadata": {},
   "outputs": [],
   "source": [
    "loss, eval_accuracy = tf_model.evaluate(tf_eval_dataset)\n",
    "print(\"Loss: {}\\t Test Accuracy: {}\".format(loss, eval_accuracy))"
   ]
  },
  {
   "cell_type": "markdown",
   "id": "50253e05-db53-492a-b9d4-2469815eb6cc",
   "metadata": {},
   "source": [
    "## Prediction on evaluation set"
   ]
  },
  {
   "cell_type": "code",
   "execution_count": null,
   "id": "cbf07788-47a0-41d3-a1a6-84abf4a8a59d",
   "metadata": {},
   "outputs": [],
   "source": [
    "output_logits = tf_model.predict(tf_eval_dataset).logits\n",
    "pred_labels = np.argmax(output_logits, axis=-1)"
   ]
  },
  {
   "cell_type": "code",
   "execution_count": null,
   "id": "14e4b8d2-bb86-4b92-b90d-07d33e603b4c",
   "metadata": {},
   "outputs": [],
   "source": [
    "emotions_encoded.set_format(\"pandas\") \n",
    "cols = [\"text\", \"label\"]\n",
    "df_test = emotions_encoded[\"validation\"][:][cols] \n",
    "df_test[\"label\"] = df_test[\"label\"].apply(label_int2str)\n",
    "df_test[\"predicted_label\"] = pred_labels\n",
    "df_test[\"predicted_label\"] = (df_test[\"predicted_label\"].apply(label_int2str))"
   ]
  },
  {
   "cell_type": "code",
   "execution_count": null,
   "id": "6b489eb3-a40b-4436-904b-ca8d513c2155",
   "metadata": {},
   "outputs": [],
   "source": [
    "df_test.sample(4)"
   ]
  },
  {
   "cell_type": "code",
   "execution_count": null,
   "id": "90969d07-967e-4026-bc6e-153d8e76f51c",
   "metadata": {},
   "outputs": [],
   "source": [
    "confusion_matrix(df_test.label, df_test.predicted_label)"
   ]
  },
  {
   "cell_type": "code",
   "execution_count": null,
   "id": "fe5d1e84-2872-460b-be7c-21101e780c6a",
   "metadata": {},
   "outputs": [],
   "source": [
    "plot_cm(df_test.label, df_test.predicted_label)"
   ]
  },
  {
   "cell_type": "code",
   "execution_count": null,
   "id": "c9b65cf0-092b-4800-9b36-cd78dcf4335c",
   "metadata": {},
   "outputs": [],
   "source": [
    "from sklearn.metrics import classification_report\n",
    "print(classification_report(df_test.predicted_label, df_test.label))"
   ]
  },
  {
   "cell_type": "code",
   "execution_count": null,
   "id": "ba842988-409c-4732-950d-0f4d4b8b7eb6",
   "metadata": {},
   "outputs": [],
   "source": [
    "#https://www.kaggle.com/code/emirkocak/in-depth-series-sentiment-analysis-w-transformers"
   ]
  },
  {
   "cell_type": "code",
   "execution_count": null,
   "id": "663a7566-afff-475c-82c8-cd15060983b7",
   "metadata": {},
   "outputs": [],
   "source": []
  }
 ],
 "metadata": {
  "kernelspec": {
   "display_name": "Python 3 (ipykernel)",
   "language": "python",
   "name": "python3"
  },
  "language_info": {
   "codemirror_mode": {
    "name": "ipython",
    "version": 3
   },
   "file_extension": ".py",
   "mimetype": "text/x-python",
   "name": "python",
   "nbconvert_exporter": "python",
   "pygments_lexer": "ipython3",
   "version": "3.11.4"
  }
 },
 "nbformat": 4,
 "nbformat_minor": 5
}
